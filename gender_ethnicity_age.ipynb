{
  "nbformat": 4,
  "nbformat_minor": 0,
  "metadata": {
    "colab": {
      "name": "gender-ethnicity-age",
      "provenance": [],
      "collapsed_sections": []
    },
    "kernelspec": {
      "name": "python3",
      "display_name": "Python 3"
    },
    "language_info": {
      "name": "python"
    }
  },
  "cells": [
    {
      "cell_type": "code",
      "execution_count": null,
      "metadata": {
        "colab": {
          "base_uri": "https://localhost:8080/"
        },
        "id": "OsuvH8h4HkLX",
        "outputId": "88797eb2-062b-4fac-a66e-31c04988de4d"
      },
      "outputs": [
        {
          "output_type": "stream",
          "name": "stdout",
          "text": [
            "Mounted at /content/drive\n"
          ]
        }
      ],
      "source": [
        "from google.colab import drive\n",
        "drive.mount(\"/content/drive\")"
      ]
    },
    {
      "cell_type": "code",
      "source": [
        "import numpy as np # linear algebra\n",
        "import pandas as pd # \n",
        "from tensorflow.keras.utils import to_categorical # convert to one-hot-encoding\n",
        "import tensorflow as tf\n",
        "\n",
        "data = pd.read_csv(\"/content/drive/MyDrive/age_gender.csv\")\n",
        "print(data.shape)\n",
        "data.head()\n",
        "data = data.drop(\"img_name\", axis=1)\n"
      ],
      "metadata": {
        "colab": {
          "base_uri": "https://localhost:8080/"
        },
        "id": "bkrwi-gpLsQy",
        "outputId": "c49cd5a0-6b3e-462e-bb06-b5a6d336bb9f"
      },
      "execution_count": null,
      "outputs": [
        {
          "output_type": "stream",
          "name": "stdout",
          "text": [
            "(23705, 5)\n"
          ]
        }
      ]
    },
    {
      "cell_type": "code",
      "source": [
        "columns = [\"age\",\"gender\",\"ethnicity\"]\n",
        "y = data.drop(\"pixels\", axis = 1)\n",
        "x = data.drop(columns, axis = 1)\n",
        "y.head()"
      ],
      "metadata": {
        "colab": {
          "base_uri": "https://localhost:8080/",
          "height": 206
        },
        "id": "43-SdeMtMAgn",
        "outputId": "bb124bd4-6e3e-485a-adbc-0ed42a70910b"
      },
      "execution_count": null,
      "outputs": [
        {
          "output_type": "execute_result",
          "data": {
            "text/plain": [
              "   age  ethnicity  gender\n",
              "0    1          2       0\n",
              "1    1          2       0\n",
              "2    1          2       0\n",
              "3    1          2       0\n",
              "4    1          2       0"
            ],
            "text/html": [
              "\n",
              "  <div id=\"df-86423a33-67df-4409-899d-45a29149a7b3\">\n",
              "    <div class=\"colab-df-container\">\n",
              "      <div>\n",
              "<style scoped>\n",
              "    .dataframe tbody tr th:only-of-type {\n",
              "        vertical-align: middle;\n",
              "    }\n",
              "\n",
              "    .dataframe tbody tr th {\n",
              "        vertical-align: top;\n",
              "    }\n",
              "\n",
              "    .dataframe thead th {\n",
              "        text-align: right;\n",
              "    }\n",
              "</style>\n",
              "<table border=\"1\" class=\"dataframe\">\n",
              "  <thead>\n",
              "    <tr style=\"text-align: right;\">\n",
              "      <th></th>\n",
              "      <th>age</th>\n",
              "      <th>ethnicity</th>\n",
              "      <th>gender</th>\n",
              "    </tr>\n",
              "  </thead>\n",
              "  <tbody>\n",
              "    <tr>\n",
              "      <th>0</th>\n",
              "      <td>1</td>\n",
              "      <td>2</td>\n",
              "      <td>0</td>\n",
              "    </tr>\n",
              "    <tr>\n",
              "      <th>1</th>\n",
              "      <td>1</td>\n",
              "      <td>2</td>\n",
              "      <td>0</td>\n",
              "    </tr>\n",
              "    <tr>\n",
              "      <th>2</th>\n",
              "      <td>1</td>\n",
              "      <td>2</td>\n",
              "      <td>0</td>\n",
              "    </tr>\n",
              "    <tr>\n",
              "      <th>3</th>\n",
              "      <td>1</td>\n",
              "      <td>2</td>\n",
              "      <td>0</td>\n",
              "    </tr>\n",
              "    <tr>\n",
              "      <th>4</th>\n",
              "      <td>1</td>\n",
              "      <td>2</td>\n",
              "      <td>0</td>\n",
              "    </tr>\n",
              "  </tbody>\n",
              "</table>\n",
              "</div>\n",
              "      <button class=\"colab-df-convert\" onclick=\"convertToInteractive('df-86423a33-67df-4409-899d-45a29149a7b3')\"\n",
              "              title=\"Convert this dataframe to an interactive table.\"\n",
              "              style=\"display:none;\">\n",
              "        \n",
              "  <svg xmlns=\"http://www.w3.org/2000/svg\" height=\"24px\"viewBox=\"0 0 24 24\"\n",
              "       width=\"24px\">\n",
              "    <path d=\"M0 0h24v24H0V0z\" fill=\"none\"/>\n",
              "    <path d=\"M18.56 5.44l.94 2.06.94-2.06 2.06-.94-2.06-.94-.94-2.06-.94 2.06-2.06.94zm-11 1L8.5 8.5l.94-2.06 2.06-.94-2.06-.94L8.5 2.5l-.94 2.06-2.06.94zm10 10l.94 2.06.94-2.06 2.06-.94-2.06-.94-.94-2.06-.94 2.06-2.06.94z\"/><path d=\"M17.41 7.96l-1.37-1.37c-.4-.4-.92-.59-1.43-.59-.52 0-1.04.2-1.43.59L10.3 9.45l-7.72 7.72c-.78.78-.78 2.05 0 2.83L4 21.41c.39.39.9.59 1.41.59.51 0 1.02-.2 1.41-.59l7.78-7.78 2.81-2.81c.8-.78.8-2.07 0-2.86zM5.41 20L4 18.59l7.72-7.72 1.47 1.35L5.41 20z\"/>\n",
              "  </svg>\n",
              "      </button>\n",
              "      \n",
              "  <style>\n",
              "    .colab-df-container {\n",
              "      display:flex;\n",
              "      flex-wrap:wrap;\n",
              "      gap: 12px;\n",
              "    }\n",
              "\n",
              "    .colab-df-convert {\n",
              "      background-color: #E8F0FE;\n",
              "      border: none;\n",
              "      border-radius: 50%;\n",
              "      cursor: pointer;\n",
              "      display: none;\n",
              "      fill: #1967D2;\n",
              "      height: 32px;\n",
              "      padding: 0 0 0 0;\n",
              "      width: 32px;\n",
              "    }\n",
              "\n",
              "    .colab-df-convert:hover {\n",
              "      background-color: #E2EBFA;\n",
              "      box-shadow: 0px 1px 2px rgba(60, 64, 67, 0.3), 0px 1px 3px 1px rgba(60, 64, 67, 0.15);\n",
              "      fill: #174EA6;\n",
              "    }\n",
              "\n",
              "    [theme=dark] .colab-df-convert {\n",
              "      background-color: #3B4455;\n",
              "      fill: #D2E3FC;\n",
              "    }\n",
              "\n",
              "    [theme=dark] .colab-df-convert:hover {\n",
              "      background-color: #434B5C;\n",
              "      box-shadow: 0px 1px 3px 1px rgba(0, 0, 0, 0.15);\n",
              "      filter: drop-shadow(0px 1px 2px rgba(0, 0, 0, 0.3));\n",
              "      fill: #FFFFFF;\n",
              "    }\n",
              "  </style>\n",
              "\n",
              "      <script>\n",
              "        const buttonEl =\n",
              "          document.querySelector('#df-86423a33-67df-4409-899d-45a29149a7b3 button.colab-df-convert');\n",
              "        buttonEl.style.display =\n",
              "          google.colab.kernel.accessAllowed ? 'block' : 'none';\n",
              "\n",
              "        async function convertToInteractive(key) {\n",
              "          const element = document.querySelector('#df-86423a33-67df-4409-899d-45a29149a7b3');\n",
              "          const dataTable =\n",
              "            await google.colab.kernel.invokeFunction('convertToInteractive',\n",
              "                                                     [key], {});\n",
              "          if (!dataTable) return;\n",
              "\n",
              "          const docLinkHtml = 'Like what you see? Visit the ' +\n",
              "            '<a target=\"_blank\" href=https://colab.research.google.com/notebooks/data_table.ipynb>data table notebook</a>'\n",
              "            + ' to learn more about interactive tables.';\n",
              "          element.innerHTML = '';\n",
              "          dataTable['output_type'] = 'display_data';\n",
              "          await google.colab.output.renderOutput(dataTable, element);\n",
              "          const docLink = document.createElement('div');\n",
              "          docLink.innerHTML = docLinkHtml;\n",
              "          element.appendChild(docLink);\n",
              "        }\n",
              "      </script>\n",
              "    </div>\n",
              "  </div>\n",
              "  "
            ]
          },
          "metadata": {},
          "execution_count": 3
        }
      ]
    },
    {
      "cell_type": "code",
      "source": [
        "img_height = 48\n",
        "img_width = 48\n",
        "\n",
        "datapoints = data['pixels'].tolist()\n",
        "X = []\n",
        "for pixel in datapoints:\n",
        "    temp = [int(i) for i in pixel.split(' ')]\n",
        "    temp = np.asarray(temp).reshape(img_width, img_height,1)\n",
        "    X.append(temp.astype('float32')/255)\n",
        "\n",
        "X = np.asarray(X)\n",
        "X.shape"
      ],
      "metadata": {
        "colab": {
          "base_uri": "https://localhost:8080/"
        },
        "id": "J5GoqDEVMm7-",
        "outputId": "656bb2e3-37a6-4a3c-d9d8-50685c4c56a1"
      },
      "execution_count": null,
      "outputs": [
        {
          "output_type": "execute_result",
          "data": {
            "text/plain": [
              "(23705, 48, 48, 1)"
            ]
          },
          "metadata": {},
          "execution_count": 8
        }
      ]
    },
    {
      "cell_type": "markdown",
      "source": [
        "GENDER MODEL OLUŞTURMA"
      ],
      "metadata": {
        "id": "-3JpFLKxw8fW"
      }
    },
    {
      "cell_type": "code",
      "source": [
        "gender = (y[\"gender\"])\n",
        "gender = np.asarray(gender).astype('float32').reshape((-1,1))\n",
        "gender.shape"
      ],
      "metadata": {
        "colab": {
          "base_uri": "https://localhost:8080/"
        },
        "id": "n45hlu3jRlTA",
        "outputId": "0af1d77a-85d5-45ab-bd20-abb907c1e77c"
      },
      "execution_count": null,
      "outputs": [
        {
          "output_type": "execute_result",
          "data": {
            "text/plain": [
              "(23705, 1)"
            ]
          },
          "metadata": {},
          "execution_count": 20
        }
      ]
    },
    {
      "cell_type": "code",
      "source": [
        "gender=tf.keras.utils.to_categorical(gender)\n",
        "gender.shape"
      ],
      "metadata": {
        "id": "EmdNyiduPdVX",
        "colab": {
          "base_uri": "https://localhost:8080/"
        },
        "outputId": "4ad7a866-de79-4e46-f603-7e6545810d07"
      },
      "execution_count": null,
      "outputs": [
        {
          "output_type": "execute_result",
          "data": {
            "text/plain": [
              "(23705, 2)"
            ]
          },
          "metadata": {},
          "execution_count": 21
        }
      ]
    },
    {
      "cell_type": "code",
      "source": [
        "from sklearn.model_selection import train_test_split\n",
        "X_train, X_test, y_train, y_test = train_test_split(\n",
        "    X, gender, test_size=0.2, random_state=37\n",
        ")\n",
        "X_train.shape,X_test.shape,y_train.shape,y_test.shape"
      ],
      "metadata": {
        "id": "1Kz-5J6LSjXK",
        "colab": {
          "base_uri": "https://localhost:8080/"
        },
        "outputId": "83164a33-12b8-4f92-8fa3-8c437d506bef"
      },
      "execution_count": null,
      "outputs": [
        {
          "output_type": "execute_result",
          "data": {
            "text/plain": [
              "((18964, 48, 48, 1), (4741, 48, 48, 1), (18964, 2), (4741, 2))"
            ]
          },
          "metadata": {},
          "execution_count": 22
        }
      ]
    },
    {
      "cell_type": "code",
      "source": [
        "from keras.models import Sequential\n",
        "from keras.layers import Dense, Dropout, Activation, Flatten\n",
        "from keras.layers import Conv2D, MaxPooling2D, BatchNormalization\n",
        "from keras import regularizers\n",
        "\n",
        "model = Sequential()\n",
        "model.add(Conv2D(128, kernel_size=(3, 3), activation='relu', input_shape=(48,48,1)))\n",
        "model.add(MaxPooling2D(pool_size=(2,2)))\n",
        "model.add(Dropout(0.3))\n",
        "\n",
        "\n",
        "model.add(Conv2D(56, kernel_size=(3, 3), activation='relu'))\n",
        "model.add(MaxPooling2D(pool_size=(2,2)))\n",
        "model.add(Dropout(0.3))\n",
        "\n",
        "\n",
        "\n",
        "model.add(Flatten())\n",
        "\n",
        "model.add(Dense(128, activation='relu',))\n",
        "model.add(Dropout(0.5))\n",
        "\n",
        "model.add(Dense(56, activation='relu',))\n",
        "model.add(Dropout(0.5))\n",
        "\n",
        "model.add(Dense(2, activation = 'softmax'))\n",
        "\n",
        "model.compile(optimizer='adam',\n",
        "              loss='categorical_crossentropy',\n",
        "              metrics=['accuracy'])"
      ],
      "metadata": {
        "id": "RJzlXsPlSpdy"
      },
      "execution_count": null,
      "outputs": []
    },
    {
      "cell_type": "code",
      "source": [
        "\n",
        "history = model.fit(\n",
        "    X_train, y_train, epochs=100, validation_split=0.1, batch_size=64,\n",
        ")"
      ],
      "metadata": {
        "colab": {
          "base_uri": "https://localhost:8080/"
        },
        "id": "0FIOM5NaSw_l",
        "outputId": "1826de75-38c0-42c5-8229-6a0d37fb21cf"
      },
      "execution_count": null,
      "outputs": [
        {
          "output_type": "stream",
          "name": "stdout",
          "text": [
            "Epoch 1/100\n",
            "267/267 [==============================] - 15s 14ms/step - loss: 0.5735 - accuracy: 0.6851 - val_loss: 0.4093 - val_accuracy: 0.8271\n",
            "Epoch 2/100\n",
            "267/267 [==============================] - 4s 13ms/step - loss: 0.4158 - accuracy: 0.8117 - val_loss: 0.3518 - val_accuracy: 0.8498\n",
            "Epoch 3/100\n",
            "267/267 [==============================] - 3s 13ms/step - loss: 0.3830 - accuracy: 0.8239 - val_loss: 0.3297 - val_accuracy: 0.8608\n",
            "Epoch 4/100\n",
            "267/267 [==============================] - 3s 13ms/step - loss: 0.3599 - accuracy: 0.8407 - val_loss: 0.3303 - val_accuracy: 0.8629\n",
            "Epoch 5/100\n",
            "267/267 [==============================] - 3s 13ms/step - loss: 0.3459 - accuracy: 0.8441 - val_loss: 0.3183 - val_accuracy: 0.8608\n",
            "Epoch 6/100\n",
            "267/267 [==============================] - 4s 13ms/step - loss: 0.3299 - accuracy: 0.8532 - val_loss: 0.2937 - val_accuracy: 0.8687\n",
            "Epoch 7/100\n",
            "267/267 [==============================] - 3s 13ms/step - loss: 0.3274 - accuracy: 0.8550 - val_loss: 0.2923 - val_accuracy: 0.8730\n",
            "Epoch 8/100\n",
            "267/267 [==============================] - 4s 13ms/step - loss: 0.3234 - accuracy: 0.8597 - val_loss: 0.2894 - val_accuracy: 0.8714\n",
            "Epoch 9/100\n",
            "267/267 [==============================] - 3s 13ms/step - loss: 0.3096 - accuracy: 0.8658 - val_loss: 0.2858 - val_accuracy: 0.8766\n",
            "Epoch 10/100\n",
            "267/267 [==============================] - 4s 13ms/step - loss: 0.3088 - accuracy: 0.8631 - val_loss: 0.2755 - val_accuracy: 0.8840\n",
            "Epoch 11/100\n",
            "267/267 [==============================] - 3s 13ms/step - loss: 0.2985 - accuracy: 0.8719 - val_loss: 0.2633 - val_accuracy: 0.8846\n",
            "Epoch 12/100\n",
            "267/267 [==============================] - 4s 14ms/step - loss: 0.2880 - accuracy: 0.8748 - val_loss: 0.2665 - val_accuracy: 0.8877\n",
            "Epoch 13/100\n",
            "267/267 [==============================] - 4s 13ms/step - loss: 0.2905 - accuracy: 0.8753 - val_loss: 0.2610 - val_accuracy: 0.8877\n",
            "Epoch 14/100\n",
            "267/267 [==============================] - 4s 13ms/step - loss: 0.2842 - accuracy: 0.8794 - val_loss: 0.2634 - val_accuracy: 0.8904\n",
            "Epoch 15/100\n",
            "267/267 [==============================] - 3s 13ms/step - loss: 0.2756 - accuracy: 0.8815 - val_loss: 0.2561 - val_accuracy: 0.8925\n",
            "Epoch 16/100\n",
            "267/267 [==============================] - 4s 13ms/step - loss: 0.2734 - accuracy: 0.8832 - val_loss: 0.2638 - val_accuracy: 0.8872\n",
            "Epoch 17/100\n",
            "267/267 [==============================] - 4s 13ms/step - loss: 0.2723 - accuracy: 0.8823 - val_loss: 0.2610 - val_accuracy: 0.8898\n",
            "Epoch 18/100\n",
            "267/267 [==============================] - 3s 13ms/step - loss: 0.2728 - accuracy: 0.8829 - val_loss: 0.2546 - val_accuracy: 0.8962\n",
            "Epoch 19/100\n",
            "267/267 [==============================] - 3s 13ms/step - loss: 0.2662 - accuracy: 0.8855 - val_loss: 0.2498 - val_accuracy: 0.8988\n",
            "Epoch 20/100\n",
            "267/267 [==============================] - 3s 13ms/step - loss: 0.2608 - accuracy: 0.8871 - val_loss: 0.2560 - val_accuracy: 0.8940\n",
            "Epoch 21/100\n",
            "267/267 [==============================] - 3s 13ms/step - loss: 0.2575 - accuracy: 0.8927 - val_loss: 0.2577 - val_accuracy: 0.8867\n",
            "Epoch 22/100\n",
            "267/267 [==============================] - 3s 13ms/step - loss: 0.2551 - accuracy: 0.8921 - val_loss: 0.2624 - val_accuracy: 0.8882\n",
            "Epoch 23/100\n",
            "267/267 [==============================] - 3s 13ms/step - loss: 0.2561 - accuracy: 0.8898 - val_loss: 0.2482 - val_accuracy: 0.9025\n",
            "Epoch 24/100\n",
            "267/267 [==============================] - 4s 14ms/step - loss: 0.2509 - accuracy: 0.8945 - val_loss: 0.2572 - val_accuracy: 0.8872\n",
            "Epoch 25/100\n",
            "267/267 [==============================] - 4s 13ms/step - loss: 0.2505 - accuracy: 0.8965 - val_loss: 0.2501 - val_accuracy: 0.8977\n",
            "Epoch 26/100\n",
            "267/267 [==============================] - 3s 13ms/step - loss: 0.2429 - accuracy: 0.8969 - val_loss: 0.2465 - val_accuracy: 0.8956\n",
            "Epoch 27/100\n",
            "267/267 [==============================] - 4s 14ms/step - loss: 0.2386 - accuracy: 0.9002 - val_loss: 0.2570 - val_accuracy: 0.8930\n",
            "Epoch 28/100\n",
            "267/267 [==============================] - 3s 13ms/step - loss: 0.2398 - accuracy: 0.8969 - val_loss: 0.2483 - val_accuracy: 0.9041\n",
            "Epoch 29/100\n",
            "267/267 [==============================] - 3s 13ms/step - loss: 0.2382 - accuracy: 0.9004 - val_loss: 0.2510 - val_accuracy: 0.9025\n",
            "Epoch 30/100\n",
            "267/267 [==============================] - 3s 13ms/step - loss: 0.2337 - accuracy: 0.9024 - val_loss: 0.2480 - val_accuracy: 0.9009\n",
            "Epoch 31/100\n",
            "267/267 [==============================] - 3s 13ms/step - loss: 0.2294 - accuracy: 0.9030 - val_loss: 0.2490 - val_accuracy: 0.9020\n",
            "Epoch 32/100\n",
            "267/267 [==============================] - 4s 14ms/step - loss: 0.2289 - accuracy: 0.9041 - val_loss: 0.2471 - val_accuracy: 0.9041\n",
            "Epoch 33/100\n",
            "267/267 [==============================] - 4s 14ms/step - loss: 0.2268 - accuracy: 0.9050 - val_loss: 0.2499 - val_accuracy: 0.8977\n",
            "Epoch 34/100\n",
            "267/267 [==============================] - 3s 13ms/step - loss: 0.2321 - accuracy: 0.9018 - val_loss: 0.2533 - val_accuracy: 0.9020\n",
            "Epoch 35/100\n",
            "267/267 [==============================] - 4s 13ms/step - loss: 0.2302 - accuracy: 0.9036 - val_loss: 0.2471 - val_accuracy: 0.8993\n",
            "Epoch 36/100\n",
            "267/267 [==============================] - 4s 14ms/step - loss: 0.2271 - accuracy: 0.9054 - val_loss: 0.2503 - val_accuracy: 0.9072\n",
            "Epoch 37/100\n",
            "267/267 [==============================] - 4s 14ms/step - loss: 0.2173 - accuracy: 0.9085 - val_loss: 0.2565 - val_accuracy: 0.8993\n",
            "Epoch 38/100\n",
            "267/267 [==============================] - 4s 14ms/step - loss: 0.2179 - accuracy: 0.9068 - val_loss: 0.2426 - val_accuracy: 0.8993\n",
            "Epoch 39/100\n",
            "267/267 [==============================] - 4s 13ms/step - loss: 0.2139 - accuracy: 0.9111 - val_loss: 0.2539 - val_accuracy: 0.8956\n",
            "Epoch 40/100\n",
            "267/267 [==============================] - 4s 14ms/step - loss: 0.2115 - accuracy: 0.9132 - val_loss: 0.2475 - val_accuracy: 0.9046\n",
            "Epoch 41/100\n",
            "267/267 [==============================] - 4s 14ms/step - loss: 0.2061 - accuracy: 0.9135 - val_loss: 0.2463 - val_accuracy: 0.9020\n",
            "Epoch 42/100\n",
            "267/267 [==============================] - 4s 14ms/step - loss: 0.2134 - accuracy: 0.9127 - val_loss: 0.2524 - val_accuracy: 0.8925\n",
            "Epoch 43/100\n",
            "267/267 [==============================] - 4s 13ms/step - loss: 0.2095 - accuracy: 0.9135 - val_loss: 0.2493 - val_accuracy: 0.8914\n",
            "Epoch 44/100\n",
            "267/267 [==============================] - 4s 13ms/step - loss: 0.2079 - accuracy: 0.9121 - val_loss: 0.2532 - val_accuracy: 0.9025\n",
            "Epoch 45/100\n",
            "267/267 [==============================] - 4s 13ms/step - loss: 0.2069 - accuracy: 0.9150 - val_loss: 0.2487 - val_accuracy: 0.8998\n",
            "Epoch 46/100\n",
            "267/267 [==============================] - 4s 14ms/step - loss: 0.2083 - accuracy: 0.9123 - val_loss: 0.2531 - val_accuracy: 0.8951\n",
            "Epoch 47/100\n",
            "267/267 [==============================] - 4s 14ms/step - loss: 0.2067 - accuracy: 0.9159 - val_loss: 0.2411 - val_accuracy: 0.9067\n",
            "Epoch 48/100\n",
            "267/267 [==============================] - 4s 13ms/step - loss: 0.2075 - accuracy: 0.9118 - val_loss: 0.2592 - val_accuracy: 0.8962\n",
            "Epoch 49/100\n",
            "267/267 [==============================] - 4s 13ms/step - loss: 0.1999 - accuracy: 0.9178 - val_loss: 0.2541 - val_accuracy: 0.9051\n",
            "Epoch 50/100\n",
            "267/267 [==============================] - 4s 13ms/step - loss: 0.2008 - accuracy: 0.9169 - val_loss: 0.2602 - val_accuracy: 0.8983\n",
            "Epoch 51/100\n",
            "267/267 [==============================] - 4s 13ms/step - loss: 0.2011 - accuracy: 0.9186 - val_loss: 0.2555 - val_accuracy: 0.8972\n",
            "Epoch 52/100\n",
            "267/267 [==============================] - 4s 13ms/step - loss: 0.2039 - accuracy: 0.9133 - val_loss: 0.2684 - val_accuracy: 0.8967\n",
            "Epoch 53/100\n",
            "267/267 [==============================] - 4s 13ms/step - loss: 0.1991 - accuracy: 0.9167 - val_loss: 0.2532 - val_accuracy: 0.9046\n",
            "Epoch 54/100\n",
            "267/267 [==============================] - 4s 13ms/step - loss: 0.1988 - accuracy: 0.9179 - val_loss: 0.2580 - val_accuracy: 0.8998\n",
            "Epoch 55/100\n",
            "267/267 [==============================] - 4s 13ms/step - loss: 0.1922 - accuracy: 0.9190 - val_loss: 0.2545 - val_accuracy: 0.9083\n",
            "Epoch 56/100\n",
            "267/267 [==============================] - 4s 14ms/step - loss: 0.1942 - accuracy: 0.9180 - val_loss: 0.2517 - val_accuracy: 0.9062\n",
            "Epoch 57/100\n",
            "267/267 [==============================] - 4s 13ms/step - loss: 0.1917 - accuracy: 0.9213 - val_loss: 0.2505 - val_accuracy: 0.8993\n",
            "Epoch 58/100\n",
            "267/267 [==============================] - 4s 13ms/step - loss: 0.1934 - accuracy: 0.9186 - val_loss: 0.2531 - val_accuracy: 0.8967\n",
            "Epoch 59/100\n",
            "267/267 [==============================] - 4s 14ms/step - loss: 0.1846 - accuracy: 0.9208 - val_loss: 0.2560 - val_accuracy: 0.8956\n",
            "Epoch 60/100\n",
            "267/267 [==============================] - 4s 14ms/step - loss: 0.1881 - accuracy: 0.9204 - val_loss: 0.2692 - val_accuracy: 0.8998\n",
            "Epoch 61/100\n",
            "267/267 [==============================] - 4s 14ms/step - loss: 0.1905 - accuracy: 0.9232 - val_loss: 0.2539 - val_accuracy: 0.9004\n",
            "Epoch 62/100\n",
            "267/267 [==============================] - 4s 14ms/step - loss: 0.1876 - accuracy: 0.9219 - val_loss: 0.2664 - val_accuracy: 0.8998\n",
            "Epoch 63/100\n",
            "267/267 [==============================] - 4s 13ms/step - loss: 0.1896 - accuracy: 0.9221 - val_loss: 0.2739 - val_accuracy: 0.9014\n",
            "Epoch 64/100\n",
            "267/267 [==============================] - 4s 14ms/step - loss: 0.1847 - accuracy: 0.9227 - val_loss: 0.2567 - val_accuracy: 0.9041\n",
            "Epoch 65/100\n",
            "267/267 [==============================] - 4s 14ms/step - loss: 0.1861 - accuracy: 0.9227 - val_loss: 0.2556 - val_accuracy: 0.9020\n",
            "Epoch 66/100\n",
            "267/267 [==============================] - 4s 14ms/step - loss: 0.1806 - accuracy: 0.9245 - val_loss: 0.2527 - val_accuracy: 0.8993\n",
            "Epoch 67/100\n",
            "267/267 [==============================] - 4s 14ms/step - loss: 0.1772 - accuracy: 0.9273 - val_loss: 0.2520 - val_accuracy: 0.9041\n",
            "Epoch 68/100\n",
            "267/267 [==============================] - 4s 13ms/step - loss: 0.1830 - accuracy: 0.9243 - val_loss: 0.2675 - val_accuracy: 0.8993\n",
            "Epoch 69/100\n",
            "267/267 [==============================] - 4s 14ms/step - loss: 0.1837 - accuracy: 0.9228 - val_loss: 0.2630 - val_accuracy: 0.9035\n",
            "Epoch 70/100\n",
            "267/267 [==============================] - 5s 19ms/step - loss: 0.1764 - accuracy: 0.9251 - val_loss: 0.2647 - val_accuracy: 0.9035\n",
            "Epoch 71/100\n",
            "267/267 [==============================] - 4s 15ms/step - loss: 0.1762 - accuracy: 0.9296 - val_loss: 0.2629 - val_accuracy: 0.8993\n",
            "Epoch 72/100\n",
            "267/267 [==============================] - 4s 13ms/step - loss: 0.1784 - accuracy: 0.9271 - val_loss: 0.2675 - val_accuracy: 0.9004\n",
            "Epoch 73/100\n",
            "267/267 [==============================] - 4s 13ms/step - loss: 0.1746 - accuracy: 0.9306 - val_loss: 0.2624 - val_accuracy: 0.9051\n",
            "Epoch 74/100\n",
            "267/267 [==============================] - 4s 14ms/step - loss: 0.1795 - accuracy: 0.9256 - val_loss: 0.2678 - val_accuracy: 0.9035\n",
            "Epoch 75/100\n",
            "267/267 [==============================] - 4s 13ms/step - loss: 0.1768 - accuracy: 0.9257 - val_loss: 0.2683 - val_accuracy: 0.9041\n",
            "Epoch 76/100\n",
            "267/267 [==============================] - 4s 14ms/step - loss: 0.1718 - accuracy: 0.9289 - val_loss: 0.2734 - val_accuracy: 0.9020\n",
            "Epoch 77/100\n",
            "267/267 [==============================] - 4s 14ms/step - loss: 0.1758 - accuracy: 0.9282 - val_loss: 0.2535 - val_accuracy: 0.8951\n",
            "Epoch 78/100\n",
            "267/267 [==============================] - 4s 14ms/step - loss: 0.1707 - accuracy: 0.9293 - val_loss: 0.2735 - val_accuracy: 0.8972\n",
            "Epoch 79/100\n",
            "267/267 [==============================] - 4s 14ms/step - loss: 0.1713 - accuracy: 0.9309 - val_loss: 0.2790 - val_accuracy: 0.8967\n",
            "Epoch 80/100\n",
            "267/267 [==============================] - 4s 13ms/step - loss: 0.1738 - accuracy: 0.9299 - val_loss: 0.2648 - val_accuracy: 0.8998\n",
            "Epoch 81/100\n",
            "267/267 [==============================] - 4s 14ms/step - loss: 0.1721 - accuracy: 0.9288 - val_loss: 0.2678 - val_accuracy: 0.8993\n",
            "Epoch 82/100\n",
            "267/267 [==============================] - 4s 13ms/step - loss: 0.1676 - accuracy: 0.9324 - val_loss: 0.2666 - val_accuracy: 0.8946\n",
            "Epoch 83/100\n",
            "267/267 [==============================] - 4s 13ms/step - loss: 0.1672 - accuracy: 0.9309 - val_loss: 0.2670 - val_accuracy: 0.8946\n",
            "Epoch 84/100\n",
            "267/267 [==============================] - 4s 14ms/step - loss: 0.1648 - accuracy: 0.9283 - val_loss: 0.2716 - val_accuracy: 0.9009\n",
            "Epoch 85/100\n",
            "267/267 [==============================] - 4s 13ms/step - loss: 0.1760 - accuracy: 0.9288 - val_loss: 0.2694 - val_accuracy: 0.8988\n",
            "Epoch 86/100\n",
            "267/267 [==============================] - 4s 14ms/step - loss: 0.1639 - accuracy: 0.9319 - val_loss: 0.2591 - val_accuracy: 0.9041\n",
            "Epoch 87/100\n",
            "267/267 [==============================] - 4s 13ms/step - loss: 0.1707 - accuracy: 0.9331 - val_loss: 0.2676 - val_accuracy: 0.8972\n",
            "Epoch 88/100\n",
            "267/267 [==============================] - 4s 14ms/step - loss: 0.1644 - accuracy: 0.9323 - val_loss: 0.2639 - val_accuracy: 0.8935\n",
            "Epoch 89/100\n",
            "267/267 [==============================] - 4s 14ms/step - loss: 0.1635 - accuracy: 0.9347 - val_loss: 0.2768 - val_accuracy: 0.8940\n",
            "Epoch 90/100\n",
            "267/267 [==============================] - 4s 13ms/step - loss: 0.1685 - accuracy: 0.9324 - val_loss: 0.2727 - val_accuracy: 0.9004\n",
            "Epoch 91/100\n",
            "267/267 [==============================] - 4s 15ms/step - loss: 0.1563 - accuracy: 0.9339 - val_loss: 0.2730 - val_accuracy: 0.9009\n",
            "Epoch 92/100\n",
            "267/267 [==============================] - 4s 14ms/step - loss: 0.1599 - accuracy: 0.9333 - val_loss: 0.2769 - val_accuracy: 0.9009\n",
            "Epoch 93/100\n",
            "267/267 [==============================] - 4s 14ms/step - loss: 0.1567 - accuracy: 0.9355 - val_loss: 0.2785 - val_accuracy: 0.9035\n",
            "Epoch 94/100\n",
            "267/267 [==============================] - 4s 14ms/step - loss: 0.1617 - accuracy: 0.9331 - val_loss: 0.2740 - val_accuracy: 0.8998\n",
            "Epoch 95/100\n",
            "267/267 [==============================] - 4s 14ms/step - loss: 0.1576 - accuracy: 0.9347 - val_loss: 0.2812 - val_accuracy: 0.9083\n",
            "Epoch 96/100\n",
            "267/267 [==============================] - 4s 14ms/step - loss: 0.1645 - accuracy: 0.9344 - val_loss: 0.2809 - val_accuracy: 0.8935\n",
            "Epoch 97/100\n",
            "267/267 [==============================] - 4s 14ms/step - loss: 0.1605 - accuracy: 0.9336 - val_loss: 0.2764 - val_accuracy: 0.8993\n",
            "Epoch 98/100\n",
            "267/267 [==============================] - 4s 14ms/step - loss: 0.1535 - accuracy: 0.9360 - val_loss: 0.2854 - val_accuracy: 0.9041\n",
            "Epoch 99/100\n",
            "267/267 [==============================] - 4s 14ms/step - loss: 0.1532 - accuracy: 0.9383 - val_loss: 0.2879 - val_accuracy: 0.8946\n",
            "Epoch 100/100\n",
            "267/267 [==============================] - 4s 14ms/step - loss: 0.1535 - accuracy: 0.9373 - val_loss: 0.2713 - val_accuracy: 0.8977\n"
          ]
        }
      ]
    },
    {
      "cell_type": "code",
      "source": [
        "model.save(\"emotion_model_v2.h5\")"
      ],
      "metadata": {
        "id": "lxc1y1ADd5t5"
      },
      "execution_count": null,
      "outputs": []
    },
    {
      "cell_type": "code",
      "source": [
        "import matplotlib.pyplot as plt\n",
        "\n",
        "print(history.history.keys())\n",
        "# summarize history for accuracy\n",
        "plt.plot(history.history['accuracy'])\n",
        "plt.plot(history.history['val_accuracy'])\n",
        "plt.title('model accuracy')\n",
        "plt.ylabel('accuracy')\n",
        "plt.xlabel('epoch')\n",
        "plt.legend(['train', 'valid'], loc='upper left')\n",
        "plt.show()\n",
        "# summarize history for loss\n",
        "plt.plot(history.history['loss'])\n",
        "plt.plot(history.history['val_loss'])\n",
        "plt.title('model loss')\n",
        "plt.ylabel('loss')\n",
        "plt.xlabel('epoch')\n",
        "plt.legend(['train', 'valid'], loc='upper left')\n",
        "plt.show()\n"
      ],
      "metadata": {
        "colab": {
          "base_uri": "https://localhost:8080/",
          "height": 591
        },
        "id": "_bsFGhdUeMSc",
        "outputId": "907755a6-28ef-4e6b-894e-fd36cac8aff7"
      },
      "execution_count": null,
      "outputs": [
        {
          "output_type": "stream",
          "name": "stdout",
          "text": [
            "dict_keys(['loss', 'accuracy', 'val_loss', 'val_accuracy'])\n"
          ]
        },
        {
          "output_type": "display_data",
          "data": {
            "text/plain": [
              "<Figure size 432x288 with 1 Axes>"
            ],
            "image/png": "[encoded data removed]"
          },
          "metadata": {
            "needs_background": "light"
          }
        },
        {
          "output_type": "display_data",
          "data": {
            "text/plain": [
              "<Figure size 432x288 with 1 Axes>"
            ],
            "image/png": "[encoded data removed]"
          },
          "metadata": {
            "needs_background": "light"
          }
        }
      ]
    },
    {
      "cell_type": "code",
      "source": [
        "\n",
        "scores = model.evaluate(X_test,y_test)\n",
        "print(\"Testing Accuracy: %.2f%%\\n\" % (scores[1]*100))"
      ],
      "metadata": {
        "colab": {
          "base_uri": "https://localhost:8080/"
        },
        "id": "-n1vlHVMeSfB",
        "outputId": "32610ee2-f8c1-4619-a575-71741b32b36c"
      },
      "execution_count": null,
      "outputs": [
        {
          "output_type": "stream",
          "name": "stdout",
          "text": [
            "149/149 [==============================] - 1s 5ms/step - loss: 0.2723 - accuracy: 0.8895\n",
            "Testing Accuracy: 88.95%\n",
            "\n"
          ]
        }
      ]
    },
    {
      "cell_type": "markdown",
      "source": [
        "\n",
        "ETNİK MODEL OLUŞTURMA"
      ],
      "metadata": {
        "id": "Xc0QfWt_vc6W"
      }
    },
    {
      "cell_type": "code",
      "source": [
        "etnik = data['ethnicity']\n",
        "etnik=tf.keras.utils.to_categorical(etnik)\n",
        "X_train, X_test, y_train, y_test = train_test_split(\n",
        "    X, etnik, test_size=0.22, random_state=37\n",
        ")"
      ],
      "metadata": {
        "id": "9E3Cy6w5oJ0G"
      },
      "execution_count": null,
      "outputs": []
    },
    {
      "cell_type": "code",
      "source": [
        "model = Sequential()\n",
        "model.add(Conv2D(128, kernel_size=(3, 3), activation='relu', input_shape=(48,48,1)))\n",
        "model.add(MaxPooling2D(pool_size=(2,2)))\n",
        "model.add(Dropout(0.3))\n",
        "\n",
        "\n",
        "model.add(Conv2D(64, kernel_size=(3, 3), activation='relu'))\n",
        "model.add(MaxPooling2D(pool_size=(2,2)))\n",
        "model.add(Dropout(0.3))\n",
        "\n",
        "\n",
        "model.add(Conv2D(32, kernel_size=(3, 3), activation='relu'))\n",
        "model.add(MaxPooling2D(pool_size=(2,2)))\n",
        "model.add(Dropout(0.3))\n",
        "\n",
        "\n",
        "\n",
        "model.add(Flatten())\n",
        "\n",
        "model.add(Dense(256, activation='relu',))\n",
        "model.add(Dropout(0.5))\n",
        "\n",
        "model.add(Dense(256, activation='relu',))\n",
        "model.add(Dropout(0.5))\n",
        "\n",
        "model.add(Dense(5, activation = 'softmax'))\n",
        "\n",
        "model.compile(optimizer='adam',\n",
        "              loss='categorical_crossentropy',\n",
        "              metrics=['accuracy'])"
      ],
      "metadata": {
        "id": "uUWcpnCJoKo8"
      },
      "execution_count": null,
      "outputs": []
    },
    {
      "cell_type": "code",
      "source": [
        "\n",
        "history = model.fit(\n",
        "    X_train, y_train, epochs=100, validation_split=0.1, batch_size=64,\n",
        ")"
      ],
      "metadata": {
        "colab": {
          "base_uri": "https://localhost:8080/"
        },
        "id": "YgZBGE9Sw-C7",
        "outputId": "80735d6a-5bba-47dd-ee0e-c8fcd24f017b"
      },
      "execution_count": null,
      "outputs": [
        {
          "output_type": "stream",
          "name": "stdout",
          "text": [
            "Epoch 1/100\n",
            "260/260 [==============================] - 9s 29ms/step - loss: 1.4079 - accuracy: 0.4493 - val_loss: 1.2946 - val_accuracy: 0.4965\n",
            "Epoch 2/100\n",
            "260/260 [==============================] - 7s 27ms/step - loss: 1.2072 - accuracy: 0.5361 - val_loss: 1.0223 - val_accuracy: 0.6284\n",
            "Epoch 3/100\n",
            "260/260 [==============================] - 7s 27ms/step - loss: 1.0784 - accuracy: 0.5998 - val_loss: 0.9502 - val_accuracy: 0.6609\n",
            "Epoch 4/100\n",
            "260/260 [==============================] - 7s 27ms/step - loss: 1.0072 - accuracy: 0.6301 - val_loss: 0.8370 - val_accuracy: 0.7096\n",
            "Epoch 5/100\n",
            "260/260 [==============================] - 7s 27ms/step - loss: 0.9557 - accuracy: 0.6535 - val_loss: 0.8255 - val_accuracy: 0.7069\n",
            "Epoch 6/100\n",
            "260/260 [==============================] - 7s 26ms/step - loss: 0.9316 - accuracy: 0.6617 - val_loss: 0.8030 - val_accuracy: 0.7204\n",
            "Epoch 7/100\n",
            "260/260 [==============================] - 7s 27ms/step - loss: 0.8991 - accuracy: 0.6752 - val_loss: 0.7574 - val_accuracy: 0.7215\n",
            "Epoch 8/100\n",
            "260/260 [==============================] - 7s 27ms/step - loss: 0.8865 - accuracy: 0.6807 - val_loss: 0.7526 - val_accuracy: 0.7253\n",
            "Epoch 9/100\n",
            "260/260 [==============================] - 7s 26ms/step - loss: 0.8650 - accuracy: 0.6904 - val_loss: 0.7297 - val_accuracy: 0.7285\n",
            "Epoch 10/100\n",
            "260/260 [==============================] - 7s 27ms/step - loss: 0.8548 - accuracy: 0.6959 - val_loss: 0.7481 - val_accuracy: 0.7269\n",
            "Epoch 11/100\n",
            "260/260 [==============================] - 7s 27ms/step - loss: 0.8345 - accuracy: 0.7007 - val_loss: 0.7129 - val_accuracy: 0.7372\n",
            "Epoch 12/100\n",
            "260/260 [==============================] - 7s 27ms/step - loss: 0.8338 - accuracy: 0.7061 - val_loss: 0.6948 - val_accuracy: 0.7496\n",
            "Epoch 13/100\n",
            "260/260 [==============================] - 7s 27ms/step - loss: 0.8126 - accuracy: 0.7141 - val_loss: 0.7033 - val_accuracy: 0.7442\n",
            "Epoch 14/100\n",
            "260/260 [==============================] - 7s 28ms/step - loss: 0.8026 - accuracy: 0.7127 - val_loss: 0.6983 - val_accuracy: 0.7496\n",
            "Epoch 15/100\n",
            "260/260 [==============================] - 8s 32ms/step - loss: 0.8044 - accuracy: 0.7112 - val_loss: 0.6633 - val_accuracy: 0.7588\n",
            "Epoch 16/100\n",
            "260/260 [==============================] - 7s 28ms/step - loss: 0.7938 - accuracy: 0.7179 - val_loss: 0.6846 - val_accuracy: 0.7588\n",
            "Epoch 17/100\n",
            "260/260 [==============================] - 7s 27ms/step - loss: 0.7896 - accuracy: 0.7193 - val_loss: 0.6860 - val_accuracy: 0.7582\n",
            "Epoch 18/100\n",
            "260/260 [==============================] - 7s 29ms/step - loss: 0.7792 - accuracy: 0.7262 - val_loss: 0.6512 - val_accuracy: 0.7647\n",
            "Epoch 19/100\n",
            "260/260 [==============================] - 7s 27ms/step - loss: 0.7729 - accuracy: 0.7237 - val_loss: 0.6473 - val_accuracy: 0.7664\n",
            "Epoch 20/100\n",
            "260/260 [==============================] - 7s 27ms/step - loss: 0.7656 - accuracy: 0.7252 - val_loss: 0.6395 - val_accuracy: 0.7664\n",
            "Epoch 21/100\n",
            "260/260 [==============================] - 7s 27ms/step - loss: 0.7519 - accuracy: 0.7338 - val_loss: 0.6499 - val_accuracy: 0.7653\n",
            "Epoch 22/100\n",
            "260/260 [==============================] - 7s 27ms/step - loss: 0.7494 - accuracy: 0.7339 - val_loss: 0.6660 - val_accuracy: 0.7577\n",
            "Epoch 23/100\n",
            "260/260 [==============================] - 7s 27ms/step - loss: 0.7525 - accuracy: 0.7335 - val_loss: 0.6401 - val_accuracy: 0.7631\n",
            "Epoch 24/100\n",
            "260/260 [==============================] - 7s 27ms/step - loss: 0.7531 - accuracy: 0.7338 - val_loss: 0.6413 - val_accuracy: 0.7739\n",
            "Epoch 25/100\n",
            "260/260 [==============================] - 7s 27ms/step - loss: 0.7439 - accuracy: 0.7383 - val_loss: 0.6593 - val_accuracy: 0.7680\n",
            "Epoch 26/100\n",
            "260/260 [==============================] - 7s 27ms/step - loss: 0.7369 - accuracy: 0.7348 - val_loss: 0.6388 - val_accuracy: 0.7729\n",
            "Epoch 27/100\n",
            "260/260 [==============================] - 7s 27ms/step - loss: 0.7251 - accuracy: 0.7442 - val_loss: 0.6273 - val_accuracy: 0.7729\n",
            "Epoch 28/100\n",
            "260/260 [==============================] - 7s 27ms/step - loss: 0.7283 - accuracy: 0.7445 - val_loss: 0.6271 - val_accuracy: 0.7691\n",
            "Epoch 29/100\n",
            "260/260 [==============================] - 7s 27ms/step - loss: 0.7242 - accuracy: 0.7472 - val_loss: 0.6172 - val_accuracy: 0.7777\n",
            "Epoch 30/100\n",
            "260/260 [==============================] - 7s 27ms/step - loss: 0.7139 - accuracy: 0.7504 - val_loss: 0.6221 - val_accuracy: 0.7739\n",
            "Epoch 31/100\n",
            "260/260 [==============================] - 7s 28ms/step - loss: 0.7178 - accuracy: 0.7447 - val_loss: 0.6196 - val_accuracy: 0.7804\n",
            "Epoch 32/100\n",
            "260/260 [==============================] - 7s 27ms/step - loss: 0.7113 - accuracy: 0.7458 - val_loss: 0.6159 - val_accuracy: 0.7864\n",
            "Epoch 33/100\n",
            "260/260 [==============================] - 7s 27ms/step - loss: 0.7154 - accuracy: 0.7466 - val_loss: 0.6147 - val_accuracy: 0.7756\n",
            "Epoch 34/100\n",
            "260/260 [==============================] - 7s 27ms/step - loss: 0.7009 - accuracy: 0.7518 - val_loss: 0.6136 - val_accuracy: 0.7837\n",
            "Epoch 35/100\n",
            "260/260 [==============================] - 7s 27ms/step - loss: 0.7090 - accuracy: 0.7503 - val_loss: 0.6204 - val_accuracy: 0.7788\n",
            "Epoch 36/100\n",
            "260/260 [==============================] - 7s 27ms/step - loss: 0.6917 - accuracy: 0.7555 - val_loss: 0.6328 - val_accuracy: 0.7696\n",
            "Epoch 37/100\n",
            "260/260 [==============================] - 7s 27ms/step - loss: 0.6960 - accuracy: 0.7542 - val_loss: 0.6368 - val_accuracy: 0.7756\n",
            "Epoch 38/100\n",
            "260/260 [==============================] - 7s 27ms/step - loss: 0.6872 - accuracy: 0.7570 - val_loss: 0.6109 - val_accuracy: 0.7793\n",
            "Epoch 39/100\n",
            "260/260 [==============================] - 7s 27ms/step - loss: 0.6942 - accuracy: 0.7549 - val_loss: 0.6264 - val_accuracy: 0.7777\n",
            "Epoch 40/100\n",
            "260/260 [==============================] - 7s 27ms/step - loss: 0.6844 - accuracy: 0.7609 - val_loss: 0.6246 - val_accuracy: 0.7815\n",
            "Epoch 41/100\n",
            "260/260 [==============================] - 7s 27ms/step - loss: 0.6857 - accuracy: 0.7537 - val_loss: 0.6220 - val_accuracy: 0.7788\n",
            "Epoch 42/100\n",
            "260/260 [==============================] - 7s 27ms/step - loss: 0.6824 - accuracy: 0.7579 - val_loss: 0.6152 - val_accuracy: 0.7793\n",
            "Epoch 43/100\n",
            "260/260 [==============================] - 7s 27ms/step - loss: 0.6742 - accuracy: 0.7589 - val_loss: 0.6376 - val_accuracy: 0.7723\n",
            "Epoch 44/100\n",
            "260/260 [==============================] - 7s 27ms/step - loss: 0.6846 - accuracy: 0.7589 - val_loss: 0.6059 - val_accuracy: 0.7885\n",
            "Epoch 45/100\n",
            "260/260 [==============================] - 7s 27ms/step - loss: 0.6731 - accuracy: 0.7636 - val_loss: 0.6042 - val_accuracy: 0.7880\n",
            "Epoch 46/100\n",
            "260/260 [==============================] - 7s 28ms/step - loss: 0.6791 - accuracy: 0.7591 - val_loss: 0.6014 - val_accuracy: 0.7826\n",
            "Epoch 47/100\n",
            "260/260 [==============================] - 7s 27ms/step - loss: 0.6789 - accuracy: 0.7603 - val_loss: 0.6090 - val_accuracy: 0.7783\n",
            "Epoch 48/100\n",
            "260/260 [==============================] - 7s 27ms/step - loss: 0.6653 - accuracy: 0.7641 - val_loss: 0.5975 - val_accuracy: 0.7853\n",
            "Epoch 49/100\n",
            "260/260 [==============================] - 7s 27ms/step - loss: 0.6750 - accuracy: 0.7596 - val_loss: 0.6066 - val_accuracy: 0.7739\n",
            "Epoch 50/100\n",
            "260/260 [==============================] - 7s 27ms/step - loss: 0.6607 - accuracy: 0.7648 - val_loss: 0.5969 - val_accuracy: 0.7896\n",
            "Epoch 51/100\n",
            "260/260 [==============================] - 7s 27ms/step - loss: 0.6649 - accuracy: 0.7656 - val_loss: 0.6053 - val_accuracy: 0.7875\n",
            "Epoch 52/100\n",
            "260/260 [==============================] - 7s 27ms/step - loss: 0.6587 - accuracy: 0.7665 - val_loss: 0.6032 - val_accuracy: 0.7847\n",
            "Epoch 53/100\n",
            "260/260 [==============================] - 7s 28ms/step - loss: 0.6610 - accuracy: 0.7662 - val_loss: 0.6097 - val_accuracy: 0.7875\n",
            "Epoch 54/100\n",
            "260/260 [==============================] - 7s 27ms/step - loss: 0.6595 - accuracy: 0.7679 - val_loss: 0.6070 - val_accuracy: 0.7907\n",
            "Epoch 55/100\n",
            "260/260 [==============================] - 7s 27ms/step - loss: 0.6610 - accuracy: 0.7662 - val_loss: 0.5997 - val_accuracy: 0.7847\n",
            "Epoch 56/100\n",
            "260/260 [==============================] - 7s 27ms/step - loss: 0.6615 - accuracy: 0.7674 - val_loss: 0.6160 - val_accuracy: 0.7864\n",
            "Epoch 57/100\n",
            "260/260 [==============================] - 7s 28ms/step - loss: 0.6513 - accuracy: 0.7704 - val_loss: 0.5913 - val_accuracy: 0.7923\n",
            "Epoch 58/100\n",
            "260/260 [==============================] - 7s 28ms/step - loss: 0.6593 - accuracy: 0.7680 - val_loss: 0.5980 - val_accuracy: 0.7923\n",
            "Epoch 59/100\n",
            "260/260 [==============================] - 7s 27ms/step - loss: 0.6512 - accuracy: 0.7686 - val_loss: 0.5979 - val_accuracy: 0.7853\n",
            "Epoch 60/100\n",
            "260/260 [==============================] - 7s 27ms/step - loss: 0.6448 - accuracy: 0.7715 - val_loss: 0.5972 - val_accuracy: 0.7875\n",
            "Epoch 61/100\n",
            "260/260 [==============================] - 7s 27ms/step - loss: 0.6403 - accuracy: 0.7744 - val_loss: 0.5958 - val_accuracy: 0.7912\n",
            "Epoch 62/100\n",
            "260/260 [==============================] - 7s 27ms/step - loss: 0.6484 - accuracy: 0.7728 - val_loss: 0.6035 - val_accuracy: 0.7804\n",
            "Epoch 63/100\n",
            "260/260 [==============================] - 7s 27ms/step - loss: 0.6358 - accuracy: 0.7752 - val_loss: 0.5929 - val_accuracy: 0.7847\n",
            "Epoch 64/100\n",
            "260/260 [==============================] - 7s 28ms/step - loss: 0.6404 - accuracy: 0.7713 - val_loss: 0.5878 - val_accuracy: 0.7934\n",
            "Epoch 65/100\n",
            "260/260 [==============================] - 7s 27ms/step - loss: 0.6453 - accuracy: 0.7740 - val_loss: 0.6105 - val_accuracy: 0.7853\n",
            "Epoch 66/100\n",
            "260/260 [==============================] - 7s 27ms/step - loss: 0.6419 - accuracy: 0.7744 - val_loss: 0.6001 - val_accuracy: 0.7788\n",
            "Epoch 67/100\n",
            "260/260 [==============================] - 7s 27ms/step - loss: 0.6374 - accuracy: 0.7777 - val_loss: 0.6007 - val_accuracy: 0.7939\n",
            "Epoch 68/100\n",
            "260/260 [==============================] - 7s 27ms/step - loss: 0.6281 - accuracy: 0.7758 - val_loss: 0.5976 - val_accuracy: 0.7891\n",
            "Epoch 69/100\n",
            "260/260 [==============================] - 7s 27ms/step - loss: 0.6322 - accuracy: 0.7766 - val_loss: 0.5864 - val_accuracy: 0.7934\n",
            "Epoch 70/100\n",
            "260/260 [==============================] - 7s 27ms/step - loss: 0.6310 - accuracy: 0.7788 - val_loss: 0.5842 - val_accuracy: 0.7891\n",
            "Epoch 71/100\n",
            "260/260 [==============================] - 7s 27ms/step - loss: 0.6407 - accuracy: 0.7712 - val_loss: 0.6126 - val_accuracy: 0.7853\n",
            "Epoch 72/100\n",
            "260/260 [==============================] - 7s 27ms/step - loss: 0.6258 - accuracy: 0.7778 - val_loss: 0.5858 - val_accuracy: 0.7950\n",
            "Epoch 73/100\n",
            "260/260 [==============================] - 7s 27ms/step - loss: 0.6284 - accuracy: 0.7761 - val_loss: 0.5853 - val_accuracy: 0.7880\n",
            "Epoch 74/100\n",
            "260/260 [==============================] - 7s 27ms/step - loss: 0.6265 - accuracy: 0.7763 - val_loss: 0.5988 - val_accuracy: 0.7918\n",
            "Epoch 75/100\n",
            "260/260 [==============================] - 7s 27ms/step - loss: 0.6352 - accuracy: 0.7776 - val_loss: 0.5854 - val_accuracy: 0.7891\n",
            "Epoch 76/100\n",
            "260/260 [==============================] - 7s 27ms/step - loss: 0.6089 - accuracy: 0.7834 - val_loss: 0.5958 - val_accuracy: 0.7929\n",
            "Epoch 77/100\n",
            "260/260 [==============================] - 7s 27ms/step - loss: 0.6238 - accuracy: 0.7776 - val_loss: 0.6023 - val_accuracy: 0.7896\n",
            "Epoch 78/100\n",
            "260/260 [==============================] - 7s 27ms/step - loss: 0.6273 - accuracy: 0.7802 - val_loss: 0.6235 - val_accuracy: 0.7777\n",
            "Epoch 79/100\n",
            "260/260 [==============================] - 7s 27ms/step - loss: 0.6217 - accuracy: 0.7834 - val_loss: 0.5834 - val_accuracy: 0.7902\n",
            "Epoch 80/100\n",
            "260/260 [==============================] - 7s 27ms/step - loss: 0.6252 - accuracy: 0.7774 - val_loss: 0.5888 - val_accuracy: 0.7988\n",
            "Epoch 81/100\n",
            "260/260 [==============================] - 7s 27ms/step - loss: 0.6101 - accuracy: 0.7823 - val_loss: 0.6028 - val_accuracy: 0.7918\n",
            "Epoch 82/100\n",
            "260/260 [==============================] - 7s 27ms/step - loss: 0.6229 - accuracy: 0.7814 - val_loss: 0.5893 - val_accuracy: 0.8021\n",
            "Epoch 83/100\n",
            "260/260 [==============================] - 7s 27ms/step - loss: 0.6189 - accuracy: 0.7811 - val_loss: 0.5828 - val_accuracy: 0.7945\n",
            "Epoch 84/100\n",
            "260/260 [==============================] - 7s 27ms/step - loss: 0.6143 - accuracy: 0.7837 - val_loss: 0.5735 - val_accuracy: 0.7950\n",
            "Epoch 85/100\n",
            "260/260 [==============================] - 7s 27ms/step - loss: 0.6046 - accuracy: 0.7874 - val_loss: 0.5823 - val_accuracy: 0.7934\n",
            "Epoch 86/100\n",
            "260/260 [==============================] - 7s 27ms/step - loss: 0.6178 - accuracy: 0.7837 - val_loss: 0.5874 - val_accuracy: 0.8010\n",
            "Epoch 87/100\n",
            "260/260 [==============================] - 7s 27ms/step - loss: 0.6011 - accuracy: 0.7878 - val_loss: 0.5820 - val_accuracy: 0.7961\n",
            "Epoch 88/100\n",
            "260/260 [==============================] - 7s 27ms/step - loss: 0.6167 - accuracy: 0.7817 - val_loss: 0.5827 - val_accuracy: 0.7977\n",
            "Epoch 89/100\n",
            "260/260 [==============================] - 7s 27ms/step - loss: 0.6050 - accuracy: 0.7856 - val_loss: 0.5843 - val_accuracy: 0.7972\n",
            "Epoch 90/100\n",
            "260/260 [==============================] - 7s 27ms/step - loss: 0.6107 - accuracy: 0.7847 - val_loss: 0.5769 - val_accuracy: 0.8026\n",
            "Epoch 91/100\n",
            "260/260 [==============================] - 7s 27ms/step - loss: 0.6111 - accuracy: 0.7858 - val_loss: 0.5863 - val_accuracy: 0.7918\n",
            "Epoch 92/100\n",
            "260/260 [==============================] - 7s 27ms/step - loss: 0.6066 - accuracy: 0.7859 - val_loss: 0.5820 - val_accuracy: 0.7966\n",
            "Epoch 93/100\n",
            "260/260 [==============================] - 7s 27ms/step - loss: 0.6088 - accuracy: 0.7859 - val_loss: 0.6110 - val_accuracy: 0.7853\n",
            "Epoch 94/100\n",
            "260/260 [==============================] - 7s 27ms/step - loss: 0.6150 - accuracy: 0.7837 - val_loss: 0.5793 - val_accuracy: 0.7966\n",
            "Epoch 95/100\n",
            "260/260 [==============================] - 7s 27ms/step - loss: 0.6027 - accuracy: 0.7862 - val_loss: 0.5953 - val_accuracy: 0.7853\n",
            "Epoch 96/100\n",
            "260/260 [==============================] - 7s 27ms/step - loss: 0.6030 - accuracy: 0.7861 - val_loss: 0.5972 - val_accuracy: 0.7902\n",
            "Epoch 97/100\n",
            "260/260 [==============================] - 7s 27ms/step - loss: 0.6018 - accuracy: 0.7876 - val_loss: 0.5941 - val_accuracy: 0.7912\n",
            "Epoch 98/100\n",
            "260/260 [==============================] - 7s 27ms/step - loss: 0.6047 - accuracy: 0.7857 - val_loss: 0.5890 - val_accuracy: 0.7923\n",
            "Epoch 99/100\n",
            "260/260 [==============================] - 7s 27ms/step - loss: 0.5987 - accuracy: 0.7932 - val_loss: 0.5930 - val_accuracy: 0.7950\n",
            "Epoch 100/100\n",
            "260/260 [==============================] - 7s 27ms/step - loss: 0.5952 - accuracy: 0.7913 - val_loss: 0.5879 - val_accuracy: 0.7912\n"
          ]
        }
      ]
    },
    {
      "cell_type": "code",
      "source": [
        "model.save(\"etnik_model.h5\")"
      ],
      "metadata": {
        "id": "WneBXfu4ihSA"
      },
      "execution_count": null,
      "outputs": []
    },
    {
      "cell_type": "code",
      "source": [
        "import matplotlib.pyplot as plt\n",
        "\n",
        "print(history.history.keys())\n",
        "# summarize history for accuracy\n",
        "plt.plot(history.history['accuracy'])\n",
        "plt.plot(history.history['val_accuracy'])\n",
        "plt.title('model accuracy')\n",
        "plt.ylabel('accuracy')\n",
        "plt.xlabel('epoch')\n",
        "plt.legend(['train', 'valid'], loc='upper left')\n",
        "plt.show()\n",
        "# summarize history for loss\n",
        "plt.plot(history.history['loss'])\n",
        "plt.plot(history.history['val_loss'])\n",
        "plt.title('model loss')\n",
        "plt.ylabel('loss')\n",
        "plt.xlabel('epoch')\n",
        "plt.legend(['train', 'valid'], loc='upper left')\n",
        "plt.show()\n"
      ],
      "metadata": {
        "colab": {
          "base_uri": "https://localhost:8080/",
          "height": 591
        },
        "id": "5UIb6FJWzE74",
        "outputId": "d0251f3f-a0b2-4da7-839d-a015ab55873c"
      },
      "execution_count": null,
      "outputs": [
        {
          "output_type": "stream",
          "name": "stdout",
          "text": [
            "dict_keys(['loss', 'accuracy', 'val_loss', 'val_accuracy'])\n"
          ]
        },
        {
          "output_type": "display_data",
          "data": {
            "text/plain": [
              "<Figure size 432x288 with 1 Axes>"
            ],
            "image/png": "[encoded data removed]"
          },
          "metadata": {
            "needs_background": "light"
          }
        },
        {
          "output_type": "display_data",
          "data": {
            "text/plain": [
              "<Figure size 432x288 with 1 Axes>"
            ],
            "image/png": "[encoded data removed]"
          },
          "metadata": {
            "needs_background": "light"
          }
        }
      ]
    },
    {
      "cell_type": "code",
      "source": [
        "\n",
        "scores = model.evaluate(X_test,y_test)\n",
        "print(\"Testing Accuracy: %.2f%%\\n\" % (scores[1]*100))"
      ],
      "metadata": {
        "colab": {
          "base_uri": "https://localhost:8080/"
        },
        "id": "cfNYRbaTzJgU",
        "outputId": "20829183-7fdd-4db2-abdb-21a4b61475c5"
      },
      "execution_count": null,
      "outputs": [
        {
          "output_type": "stream",
          "name": "stdout",
          "text": [
            "163/163 [==============================] - 2s 8ms/step - loss: 0.5918 - accuracy: 0.7985\n",
            "Testing Accuracy: 79.85%\n",
            "\n"
          ]
        }
      ]
    },
    {
      "cell_type": "markdown",
      "source": [
        "AGE MODEL OLUŞTURMA\n"
      ],
      "metadata": {
        "id": "nwuzd7OMw36p"
      }
    },
    {
      "cell_type": "code",
      "source": [
        "data['age'] = data[\"age\"].apply(lambda x: \"Teen\" if x < 24 else(\"Middle\" if 24 <= x < 55 else \"Old\"))\n"
      ],
      "metadata": {
        "id": "_oRavuLOix0C"
      },
      "execution_count": null,
      "outputs": []
    },
    {
      "cell_type": "code",
      "source": [
        "from sklearn.preprocessing import LabelEncoder\n",
        "Encoder_Function = LabelEncoder()\n",
        "print(\"MAIN:\")\n",
        "print(data[\"age\"].value_counts())\n",
        "print(\"---\" * 20)\n",
        "data[\"age\"] = Encoder_Function.fit_transform(data[\"age\"])\n",
        "print(\"TRANSFORMED:\")\n",
        "print(data[\"age\"].value_counts())\n"
      ],
      "metadata": {
        "colab": {
          "base_uri": "https://localhost:8080/"
        },
        "id": "tSSF7riCktoA",
        "outputId": "e9ff1672-3c9f-4cbf-bbef-822370a31e16"
      },
      "execution_count": null,
      "outputs": [
        {
          "output_type": "stream",
          "name": "stdout",
          "text": [
            "MAIN:\n",
            "Middle    14019\n",
            "Teen       6044\n",
            "Old        3642\n",
            "Name: age, dtype: int64\n",
            "------------------------------------------------------------\n",
            "TRANSFORMED:\n",
            "0    14019\n",
            "2     6044\n",
            "1     3642\n",
            "Name: age, dtype: int64\n"
          ]
        }
      ]
    },
    {
      "cell_type": "code",
      "source": [
        "age = data['age']\n",
        "age=tf.keras.utils.to_categorical(age)\n",
        "X_train, X_test, y_train, y_test = train_test_split(\n",
        "    X, age, test_size=0.22, random_state=37\n",
        ")\n"
      ],
      "metadata": {
        "id": "5sdyKQBNlmej"
      },
      "execution_count": null,
      "outputs": []
    },
    {
      "cell_type": "code",
      "source": [
        "model = Sequential()\n",
        "model.add(Conv2D(128, kernel_size=(3, 3), activation='relu', input_shape=(48,48,1)))\n",
        "model.add(MaxPooling2D(pool_size=(2,2)))\n",
        "model.add(Dropout(0.3))\n",
        "\n",
        "\n",
        "model.add(Conv2D(64, kernel_size=(3, 3), activation='relu'))\n",
        "model.add(MaxPooling2D(pool_size=(2,2)))\n",
        "model.add(Dropout(0.3))\n",
        "\n",
        "\n",
        "model.add(Conv2D(32, kernel_size=(3, 3), activation='relu'))\n",
        "model.add(MaxPooling2D(pool_size=(2,2)))\n",
        "model.add(Dropout(0.3))\n",
        "\n",
        "\n",
        "\n",
        "model.add(Flatten())\n",
        "\n",
        "model.add(Dense(256, activation='relu',))\n",
        "model.add(Dropout(0.5))\n",
        "\n",
        "model.add(Dense(256, activation='relu',))\n",
        "model.add(Dropout(0.5))\n",
        "\n",
        "model.add(Dense(3, activation = 'softmax'))\n",
        "\n",
        "model.compile(optimizer='adam',\n",
        "              loss='categorical_crossentropy',\n",
        "              metrics=['accuracy'])"
      ],
      "metadata": {
        "id": "Q5V6KoO-nCrJ"
      },
      "execution_count": null,
      "outputs": []
    },
    {
      "cell_type": "code",
      "source": [
        "\n",
        "\n",
        "history = model.fit(\n",
        "    X_train, y_train, epochs=100, validation_split=0.1, batch_size=64\n",
        ")"
      ],
      "metadata": {
        "colab": {
          "base_uri": "https://localhost:8080/"
        },
        "id": "ZpWdt1qFnGLG",
        "outputId": "31786faf-aaf4-4cd0-94cb-e925dfbd41b5"
      },
      "execution_count": null,
      "outputs": [
        {
          "output_type": "stream",
          "name": "stdout",
          "text": [
            "Epoch 1/100\n",
            "260/260 [==============================] - 8s 28ms/step - loss: 0.9325 - accuracy: 0.5944 - val_loss: 0.8187 - val_accuracy: 0.6517\n",
            "Epoch 2/100\n",
            "260/260 [==============================] - 7s 29ms/step - loss: 0.7607 - accuracy: 0.6821 - val_loss: 0.6701 - val_accuracy: 0.7253\n",
            "Epoch 3/100\n",
            "260/260 [==============================] - 7s 28ms/step - loss: 0.6909 - accuracy: 0.7118 - val_loss: 0.6332 - val_accuracy: 0.7534\n",
            "Epoch 4/100\n",
            "260/260 [==============================] - 7s 26ms/step - loss: 0.6592 - accuracy: 0.7292 - val_loss: 0.6041 - val_accuracy: 0.7539\n",
            "Epoch 5/100\n",
            "260/260 [==============================] - 7s 27ms/step - loss: 0.6333 - accuracy: 0.7419 - val_loss: 0.5833 - val_accuracy: 0.7701\n",
            "Epoch 6/100\n",
            "260/260 [==============================] - 7s 27ms/step - loss: 0.6175 - accuracy: 0.7495 - val_loss: 0.5772 - val_accuracy: 0.7696\n",
            "Epoch 7/100\n",
            "260/260 [==============================] - 7s 27ms/step - loss: 0.6000 - accuracy: 0.7526 - val_loss: 0.5472 - val_accuracy: 0.7826\n",
            "Epoch 8/100\n",
            "260/260 [==============================] - 7s 27ms/step - loss: 0.5895 - accuracy: 0.7576 - val_loss: 0.5482 - val_accuracy: 0.7842\n",
            "Epoch 9/100\n",
            "260/260 [==============================] - 7s 27ms/step - loss: 0.5751 - accuracy: 0.7623 - val_loss: 0.5353 - val_accuracy: 0.7804\n",
            "Epoch 10/100\n",
            "260/260 [==============================] - 7s 27ms/step - loss: 0.5727 - accuracy: 0.7693 - val_loss: 0.5186 - val_accuracy: 0.7972\n",
            "Epoch 11/100\n",
            "260/260 [==============================] - 7s 27ms/step - loss: 0.5653 - accuracy: 0.7669 - val_loss: 0.5358 - val_accuracy: 0.7907\n",
            "Epoch 12/100\n",
            "260/260 [==============================] - 7s 27ms/step - loss: 0.5582 - accuracy: 0.7698 - val_loss: 0.5115 - val_accuracy: 0.7907\n",
            "Epoch 13/100\n",
            "260/260 [==============================] - 7s 27ms/step - loss: 0.5497 - accuracy: 0.7714 - val_loss: 0.5194 - val_accuracy: 0.7858\n",
            "Epoch 14/100\n",
            "260/260 [==============================] - 7s 27ms/step - loss: 0.5445 - accuracy: 0.7761 - val_loss: 0.5098 - val_accuracy: 0.7977\n",
            "Epoch 15/100\n",
            "260/260 [==============================] - 7s 28ms/step - loss: 0.5407 - accuracy: 0.7782 - val_loss: 0.5016 - val_accuracy: 0.7994\n",
            "Epoch 16/100\n",
            "260/260 [==============================] - 7s 27ms/step - loss: 0.5295 - accuracy: 0.7820 - val_loss: 0.5075 - val_accuracy: 0.7896\n",
            "Epoch 17/100\n",
            "260/260 [==============================] - 7s 27ms/step - loss: 0.5326 - accuracy: 0.7776 - val_loss: 0.4961 - val_accuracy: 0.8037\n",
            "Epoch 18/100\n",
            "260/260 [==============================] - 7s 27ms/step - loss: 0.5166 - accuracy: 0.7856 - val_loss: 0.4976 - val_accuracy: 0.7994\n",
            "Epoch 19/100\n",
            "260/260 [==============================] - 7s 27ms/step - loss: 0.5188 - accuracy: 0.7862 - val_loss: 0.4966 - val_accuracy: 0.7961\n",
            "Epoch 20/100\n",
            "260/260 [==============================] - 7s 27ms/step - loss: 0.5119 - accuracy: 0.7844 - val_loss: 0.4932 - val_accuracy: 0.8085\n",
            "Epoch 21/100\n",
            "260/260 [==============================] - 7s 27ms/step - loss: 0.5123 - accuracy: 0.7848 - val_loss: 0.4919 - val_accuracy: 0.8037\n",
            "Epoch 22/100\n",
            "260/260 [==============================] - 8s 29ms/step - loss: 0.5083 - accuracy: 0.7870 - val_loss: 0.4953 - val_accuracy: 0.8015\n",
            "Epoch 23/100\n",
            "260/260 [==============================] - 7s 27ms/step - loss: 0.5042 - accuracy: 0.7928 - val_loss: 0.5000 - val_accuracy: 0.8042\n",
            "Epoch 24/100\n",
            "260/260 [==============================] - 7s 27ms/step - loss: 0.4966 - accuracy: 0.7966 - val_loss: 0.4993 - val_accuracy: 0.8037\n",
            "Epoch 25/100\n",
            "260/260 [==============================] - 7s 27ms/step - loss: 0.5039 - accuracy: 0.7934 - val_loss: 0.4876 - val_accuracy: 0.8091\n",
            "Epoch 26/100\n",
            "260/260 [==============================] - 7s 27ms/step - loss: 0.5037 - accuracy: 0.7936 - val_loss: 0.4876 - val_accuracy: 0.7994\n",
            "Epoch 27/100\n",
            "260/260 [==============================] - 7s 27ms/step - loss: 0.4897 - accuracy: 0.7994 - val_loss: 0.4810 - val_accuracy: 0.8096\n",
            "Epoch 28/100\n",
            "260/260 [==============================] - 7s 27ms/step - loss: 0.4919 - accuracy: 0.7974 - val_loss: 0.4681 - val_accuracy: 0.8058\n",
            "Epoch 29/100\n",
            "260/260 [==============================] - 7s 27ms/step - loss: 0.4919 - accuracy: 0.7952 - val_loss: 0.4802 - val_accuracy: 0.8048\n",
            "Epoch 30/100\n",
            "260/260 [==============================] - 7s 27ms/step - loss: 0.4955 - accuracy: 0.7974 - val_loss: 0.4809 - val_accuracy: 0.8015\n",
            "Epoch 31/100\n",
            "260/260 [==============================] - 7s 27ms/step - loss: 0.4786 - accuracy: 0.8049 - val_loss: 0.4915 - val_accuracy: 0.8004\n",
            "Epoch 32/100\n",
            "260/260 [==============================] - 7s 27ms/step - loss: 0.4845 - accuracy: 0.7981 - val_loss: 0.4752 - val_accuracy: 0.8096\n",
            "Epoch 33/100\n",
            "260/260 [==============================] - 7s 27ms/step - loss: 0.4836 - accuracy: 0.7984 - val_loss: 0.4734 - val_accuracy: 0.8010\n",
            "Epoch 34/100\n",
            "260/260 [==============================] - 7s 27ms/step - loss: 0.4738 - accuracy: 0.8010 - val_loss: 0.4856 - val_accuracy: 0.8004\n",
            "Epoch 35/100\n",
            "260/260 [==============================] - 7s 27ms/step - loss: 0.4777 - accuracy: 0.8022 - val_loss: 0.4705 - val_accuracy: 0.8037\n",
            "Epoch 36/100\n",
            "260/260 [==============================] - 7s 27ms/step - loss: 0.4793 - accuracy: 0.8001 - val_loss: 0.4761 - val_accuracy: 0.8042\n",
            "Epoch 37/100\n",
            "260/260 [==============================] - 7s 27ms/step - loss: 0.4650 - accuracy: 0.8108 - val_loss: 0.4771 - val_accuracy: 0.8004\n",
            "Epoch 38/100\n",
            "260/260 [==============================] - 7s 27ms/step - loss: 0.4733 - accuracy: 0.8019 - val_loss: 0.4947 - val_accuracy: 0.8058\n",
            "Epoch 39/100\n",
            "260/260 [==============================] - 7s 27ms/step - loss: 0.4714 - accuracy: 0.8081 - val_loss: 0.4739 - val_accuracy: 0.8085\n",
            "Epoch 40/100\n",
            "260/260 [==============================] - 7s 27ms/step - loss: 0.4629 - accuracy: 0.8082 - val_loss: 0.4739 - val_accuracy: 0.8096\n",
            "Epoch 41/100\n",
            "260/260 [==============================] - 7s 27ms/step - loss: 0.4590 - accuracy: 0.8075 - val_loss: 0.4897 - val_accuracy: 0.8037\n",
            "Epoch 42/100\n",
            "260/260 [==============================] - 7s 27ms/step - loss: 0.4623 - accuracy: 0.8066 - val_loss: 0.4976 - val_accuracy: 0.7956\n",
            "Epoch 43/100\n",
            "260/260 [==============================] - 7s 27ms/step - loss: 0.4646 - accuracy: 0.8073 - val_loss: 0.4807 - val_accuracy: 0.8107\n",
            "Epoch 44/100\n",
            "260/260 [==============================] - 7s 27ms/step - loss: 0.4549 - accuracy: 0.8124 - val_loss: 0.4675 - val_accuracy: 0.8096\n",
            "Epoch 45/100\n",
            "260/260 [==============================] - 7s 27ms/step - loss: 0.4599 - accuracy: 0.8118 - val_loss: 0.4792 - val_accuracy: 0.8112\n",
            "Epoch 46/100\n",
            "260/260 [==============================] - 7s 27ms/step - loss: 0.4560 - accuracy: 0.8121 - val_loss: 0.4700 - val_accuracy: 0.8069\n",
            "Epoch 47/100\n",
            "260/260 [==============================] - 7s 27ms/step - loss: 0.4617 - accuracy: 0.8073 - val_loss: 0.4739 - val_accuracy: 0.8053\n",
            "Epoch 48/100\n",
            "260/260 [==============================] - 7s 27ms/step - loss: 0.4501 - accuracy: 0.8118 - val_loss: 0.4732 - val_accuracy: 0.8058\n",
            "Epoch 49/100\n",
            "260/260 [==============================] - 7s 27ms/step - loss: 0.4568 - accuracy: 0.8099 - val_loss: 0.4685 - val_accuracy: 0.8075\n",
            "Epoch 50/100\n",
            "260/260 [==============================] - 7s 27ms/step - loss: 0.4494 - accuracy: 0.8139 - val_loss: 0.4630 - val_accuracy: 0.8134\n",
            "Epoch 51/100\n",
            "260/260 [==============================] - 7s 27ms/step - loss: 0.4458 - accuracy: 0.8147 - val_loss: 0.4649 - val_accuracy: 0.8069\n",
            "Epoch 52/100\n",
            "260/260 [==============================] - 7s 27ms/step - loss: 0.4458 - accuracy: 0.8150 - val_loss: 0.4719 - val_accuracy: 0.8156\n",
            "Epoch 53/100\n",
            "260/260 [==============================] - 7s 27ms/step - loss: 0.4433 - accuracy: 0.8121 - val_loss: 0.4742 - val_accuracy: 0.8112\n",
            "Epoch 54/100\n",
            "260/260 [==============================] - 7s 27ms/step - loss: 0.4430 - accuracy: 0.8147 - val_loss: 0.4711 - val_accuracy: 0.8085\n",
            "Epoch 55/100\n",
            "260/260 [==============================] - 7s 27ms/step - loss: 0.4455 - accuracy: 0.8148 - val_loss: 0.4588 - val_accuracy: 0.8107\n",
            "Epoch 56/100\n",
            "260/260 [==============================] - 7s 27ms/step - loss: 0.4420 - accuracy: 0.8145 - val_loss: 0.4661 - val_accuracy: 0.8156\n",
            "Epoch 57/100\n",
            "260/260 [==============================] - 7s 27ms/step - loss: 0.4407 - accuracy: 0.8172 - val_loss: 0.4662 - val_accuracy: 0.8183\n",
            "Epoch 58/100\n",
            "260/260 [==============================] - 7s 27ms/step - loss: 0.4385 - accuracy: 0.8164 - val_loss: 0.4607 - val_accuracy: 0.8177\n",
            "Epoch 59/100\n",
            "260/260 [==============================] - 7s 27ms/step - loss: 0.4371 - accuracy: 0.8180 - val_loss: 0.4617 - val_accuracy: 0.8145\n",
            "Epoch 60/100\n",
            "260/260 [==============================] - 7s 27ms/step - loss: 0.4345 - accuracy: 0.8211 - val_loss: 0.4659 - val_accuracy: 0.8226\n",
            "Epoch 61/100\n",
            "260/260 [==============================] - 7s 27ms/step - loss: 0.4405 - accuracy: 0.8153 - val_loss: 0.4620 - val_accuracy: 0.8177\n",
            "Epoch 62/100\n",
            "260/260 [==============================] - 7s 27ms/step - loss: 0.4399 - accuracy: 0.8180 - val_loss: 0.4647 - val_accuracy: 0.8129\n",
            "Epoch 63/100\n",
            "260/260 [==============================] - 7s 27ms/step - loss: 0.4313 - accuracy: 0.8198 - val_loss: 0.4647 - val_accuracy: 0.8096\n",
            "Epoch 64/100\n",
            "260/260 [==============================] - 7s 27ms/step - loss: 0.4382 - accuracy: 0.8188 - val_loss: 0.4766 - val_accuracy: 0.8058\n",
            "Epoch 65/100\n",
            "260/260 [==============================] - 7s 27ms/step - loss: 0.4317 - accuracy: 0.8215 - val_loss: 0.4734 - val_accuracy: 0.8026\n",
            "Epoch 66/100\n",
            "260/260 [==============================] - 7s 27ms/step - loss: 0.4257 - accuracy: 0.8221 - val_loss: 0.4597 - val_accuracy: 0.8177\n",
            "Epoch 67/100\n",
            "260/260 [==============================] - 7s 27ms/step - loss: 0.4207 - accuracy: 0.8245 - val_loss: 0.4596 - val_accuracy: 0.8080\n",
            "Epoch 68/100\n",
            "260/260 [==============================] - 7s 27ms/step - loss: 0.4278 - accuracy: 0.8190 - val_loss: 0.4721 - val_accuracy: 0.8215\n",
            "Epoch 69/100\n",
            "260/260 [==============================] - 7s 27ms/step - loss: 0.4215 - accuracy: 0.8259 - val_loss: 0.4586 - val_accuracy: 0.8253\n",
            "Epoch 70/100\n",
            "260/260 [==============================] - 7s 27ms/step - loss: 0.4308 - accuracy: 0.8226 - val_loss: 0.4620 - val_accuracy: 0.8129\n",
            "Epoch 71/100\n",
            "260/260 [==============================] - 7s 27ms/step - loss: 0.4167 - accuracy: 0.8254 - val_loss: 0.4637 - val_accuracy: 0.8080\n",
            "Epoch 72/100\n",
            "260/260 [==============================] - 7s 27ms/step - loss: 0.4238 - accuracy: 0.8228 - val_loss: 0.4671 - val_accuracy: 0.8194\n",
            "Epoch 73/100\n",
            "260/260 [==============================] - 7s 27ms/step - loss: 0.4243 - accuracy: 0.8246 - val_loss: 0.4647 - val_accuracy: 0.8091\n",
            "Epoch 74/100\n",
            "260/260 [==============================] - 7s 27ms/step - loss: 0.4255 - accuracy: 0.8255 - val_loss: 0.4683 - val_accuracy: 0.8145\n",
            "Epoch 75/100\n",
            "260/260 [==============================] - 7s 27ms/step - loss: 0.4178 - accuracy: 0.8249 - val_loss: 0.4739 - val_accuracy: 0.8129\n",
            "Epoch 76/100\n",
            "260/260 [==============================] - 7s 27ms/step - loss: 0.4208 - accuracy: 0.8283 - val_loss: 0.4540 - val_accuracy: 0.8140\n",
            "Epoch 77/100\n",
            "260/260 [==============================] - 7s 27ms/step - loss: 0.4154 - accuracy: 0.8290 - val_loss: 0.4578 - val_accuracy: 0.8167\n",
            "Epoch 78/100\n",
            "260/260 [==============================] - 7s 27ms/step - loss: 0.4148 - accuracy: 0.8292 - val_loss: 0.4593 - val_accuracy: 0.8123\n",
            "Epoch 79/100\n",
            "260/260 [==============================] - 7s 27ms/step - loss: 0.4140 - accuracy: 0.8285 - val_loss: 0.4831 - val_accuracy: 0.8048\n",
            "Epoch 80/100\n",
            "260/260 [==============================] - 7s 27ms/step - loss: 0.4147 - accuracy: 0.8293 - val_loss: 0.4810 - val_accuracy: 0.8048\n",
            "Epoch 81/100\n",
            "260/260 [==============================] - 7s 27ms/step - loss: 0.4206 - accuracy: 0.8269 - val_loss: 0.4824 - val_accuracy: 0.8037\n",
            "Epoch 82/100\n",
            "260/260 [==============================] - 7s 27ms/step - loss: 0.4173 - accuracy: 0.8268 - val_loss: 0.4678 - val_accuracy: 0.8129\n",
            "Epoch 83/100\n",
            "260/260 [==============================] - 7s 27ms/step - loss: 0.4118 - accuracy: 0.8308 - val_loss: 0.4697 - val_accuracy: 0.8091\n",
            "Epoch 84/100\n",
            "260/260 [==============================] - 7s 27ms/step - loss: 0.4181 - accuracy: 0.8249 - val_loss: 0.4729 - val_accuracy: 0.8048\n",
            "Epoch 85/100\n",
            "260/260 [==============================] - 7s 27ms/step - loss: 0.4128 - accuracy: 0.8293 - val_loss: 0.4660 - val_accuracy: 0.8102\n",
            "Epoch 86/100\n",
            "260/260 [==============================] - 7s 27ms/step - loss: 0.4062 - accuracy: 0.8345 - val_loss: 0.4625 - val_accuracy: 0.8161\n",
            "Epoch 87/100\n",
            "260/260 [==============================] - 7s 27ms/step - loss: 0.4063 - accuracy: 0.8291 - val_loss: 0.4795 - val_accuracy: 0.8140\n",
            "Epoch 88/100\n",
            "260/260 [==============================] - 7s 27ms/step - loss: 0.4031 - accuracy: 0.8351 - val_loss: 0.4652 - val_accuracy: 0.8194\n",
            "Epoch 89/100\n",
            "260/260 [==============================] - 7s 27ms/step - loss: 0.4081 - accuracy: 0.8301 - val_loss: 0.4615 - val_accuracy: 0.8129\n",
            "Epoch 90/100\n",
            "260/260 [==============================] - 7s 27ms/step - loss: 0.4061 - accuracy: 0.8314 - val_loss: 0.4609 - val_accuracy: 0.8053\n",
            "Epoch 91/100\n",
            "260/260 [==============================] - 7s 27ms/step - loss: 0.4044 - accuracy: 0.8316 - val_loss: 0.4576 - val_accuracy: 0.8145\n",
            "Epoch 92/100\n",
            "260/260 [==============================] - 7s 27ms/step - loss: 0.4035 - accuracy: 0.8316 - val_loss: 0.4764 - val_accuracy: 0.8134\n",
            "Epoch 93/100\n",
            "260/260 [==============================] - 7s 27ms/step - loss: 0.4041 - accuracy: 0.8352 - val_loss: 0.4727 - val_accuracy: 0.8102\n",
            "Epoch 94/100\n",
            "260/260 [==============================] - 7s 27ms/step - loss: 0.4014 - accuracy: 0.8350 - val_loss: 0.4711 - val_accuracy: 0.8123\n",
            "Epoch 95/100\n",
            "260/260 [==============================] - 7s 27ms/step - loss: 0.4014 - accuracy: 0.8346 - val_loss: 0.4707 - val_accuracy: 0.8129\n",
            "Epoch 96/100\n",
            "260/260 [==============================] - 7s 27ms/step - loss: 0.4090 - accuracy: 0.8309 - val_loss: 0.4590 - val_accuracy: 0.8134\n",
            "Epoch 97/100\n",
            "260/260 [==============================] - 7s 27ms/step - loss: 0.4059 - accuracy: 0.8321 - val_loss: 0.4656 - val_accuracy: 0.8145\n",
            "Epoch 98/100\n",
            "260/260 [==============================] - 7s 27ms/step - loss: 0.4024 - accuracy: 0.8320 - val_loss: 0.4596 - val_accuracy: 0.8161\n",
            "Epoch 99/100\n",
            "260/260 [==============================] - 7s 27ms/step - loss: 0.4046 - accuracy: 0.8302 - val_loss: 0.4603 - val_accuracy: 0.8161\n",
            "Epoch 100/100\n",
            "260/260 [==============================] - 7s 27ms/step - loss: 0.3991 - accuracy: 0.8316 - val_loss: 0.4590 - val_accuracy: 0.8129\n"
          ]
        }
      ]
    },
    {
      "cell_type": "code",
      "source": [
        "model.save(\"age_model.h5\")"
      ],
      "metadata": {
        "id": "HgCOUwNamb5l"
      },
      "execution_count": null,
      "outputs": []
    },
    {
      "cell_type": "code",
      "source": [
        "import matplotlib.pyplot as plt\n",
        "\n",
        "print(history.history.keys())\n",
        "# summarize history for accuracy\n",
        "plt.plot(history.history['accuracy'])\n",
        "plt.plot(history.history['val_accuracy'])\n",
        "plt.title('model accuracy')\n",
        "plt.ylabel('accuracy')\n",
        "plt.xlabel('epoch')\n",
        "plt.legend(['train', 'valid'], loc='upper left')\n",
        "plt.show()\n",
        "# summarize history for loss\n",
        "plt.plot(history.history['loss'])\n",
        "plt.plot(history.history['val_loss'])\n",
        "plt.title('model loss')\n",
        "plt.ylabel('loss')\n",
        "plt.xlabel('epoch')\n",
        "plt.legend(['train', 'valid'], loc='upper left')\n",
        "plt.show()\n"
      ],
      "metadata": {
        "colab": {
          "base_uri": "https://localhost:8080/",
          "height": 591
        },
        "id": "zRsdcVuHp8sm",
        "outputId": "f035f0fd-03ee-4917-d97c-a562d3c9790c"
      },
      "execution_count": null,
      "outputs": [
        {
          "output_type": "stream",
          "name": "stdout",
          "text": [
            "dict_keys(['loss', 'accuracy', 'val_loss', 'val_accuracy'])\n"
          ]
        },
        {
          "output_type": "display_data",
          "data": {
            "text/plain": [
              "<Figure size 432x288 with 1 Axes>"
            ],
            "image/png": "[encoded data removed]"
          },
          "metadata": {
            "needs_background": "light"
          }
        },
        {
          "output_type": "display_data",
          "data": {
            "text/plain": [
              "<Figure size 432x288 with 1 Axes>"
            ],
            "image/png": "[encoded data removed]"
          },
          "metadata": {
            "needs_background": "light"
          }
        }
      ]
    },
    {
      "cell_type": "code",
      "source": [
        "\n",
        "scores = model.evaluate(X_test,y_test)\n",
        "print(\"Testing Accuracy: %.2f%%\\n\" % (scores[1]*100))"
      ],
      "metadata": {
        "colab": {
          "base_uri": "https://localhost:8080/"
        },
        "id": "PZ59DNKNp_Ny",
        "outputId": "6043d631-c29b-432b-8248-48840cb1ba90"
      },
      "execution_count": null,
      "outputs": [
        {
          "output_type": "stream",
          "name": "stdout",
          "text": [
            "163/163 [==============================] - 2s 8ms/step - loss: 0.4630 - accuracy: 0.8113\n",
            "Testing Accuracy: 81.13%\n",
            "\n"
          ]
        }
      ]
    }
  ]
}