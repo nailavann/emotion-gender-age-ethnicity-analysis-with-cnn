{
  "nbformat": 4,
  "nbformat_minor": 0,
  "metadata": {
    "colab": {
      "name": "deeplearning-cnn",
      "provenance": [],
      "collapsed_sections": []
    },
    "kernelspec": {
      "name": "python3",
      "display_name": "Python 3"
    },
    "language_info": {
      "name": "python"
    },
    "accelerator": "GPU"
  },
  "cells": [
    {
      "cell_type": "code",
      "execution_count": null,
      "metadata": {
        "colab": {
          "base_uri": "https://localhost:8080/"
        },
        "id": "CCZfynr85gHR",
        "outputId": "4209aa36-cf41-4d3b-a734-e2d66bb9c8c8"
      },
      "outputs": [
        {
          "output_type": "stream",
          "name": "stdout",
          "text": [
            "Mounted at /content/drive\n"
          ]
        }
      ],
      "source": [
        "from google.colab import drive\n",
        "drive.mount(\"/content/drive\")"
      ]
    },
    {
      "cell_type": "code",
      "source": [
        "from keras.models import Sequential\n",
        "from keras.layers import Dense, Dropout, Activation, Flatten\n",
        "from keras.layers import Conv2D, MaxPooling2D, BatchNormalization\n",
        "from tensorflow.keras.optimizers import Adam\n",
        "import pandas as pd\n",
        "import numpy as np\n",
        "import tensorflow as tf\n",
        "from keras.preprocessing.image import ImageDataGenerator\n",
        "from sklearn.model_selection import train_test_split\n",
        "from keras.callbacks import  ModelCheckpoint\n"
      ],
      "metadata": {
        "id": "PINYSaihsv6T"
      },
      "execution_count": null,
      "outputs": []
    },
    {
      "cell_type": "code",
      "source": [
        "data = pd.read_csv('/content/drive/MyDrive/fer2013.csv')\n",
        "\n",
        "width, height = 48, 48\n",
        "\n",
        "datapoints = data['pixels'].tolist()\n",
        "X = []\n",
        "for pixel in datapoints:\n",
        "    temp = [int(i) for i in pixel.split(' ')]\n",
        "    temp = np.asarray(temp).reshape(width, height,1)\n",
        "    X.append(temp.astype('float32')/255)\n",
        "\n",
        "X = np.asarray(X)\n",
        "\n",
        "y=tf.keras.utils.to_categorical(data['emotion'])\n"
      ],
      "metadata": {
        "id": "TyERB6dmpT0T"
      },
      "execution_count": null,
      "outputs": []
    },
    {
      "cell_type": "code",
      "source": [
        "X_train, X_test, y_train, y_test = train_test_split(X, y, test_size=0.1, random_state=42)\n",
        "print(X_test.shape)\n",
        "print(X_train.shape)"
      ],
      "metadata": {
        "colab": {
          "base_uri": "https://localhost:8080/"
        },
        "id": "SbHxDGVkp25m",
        "outputId": "c9b38761-1950-4959-d2d3-55cca4c47409"
      },
      "execution_count": null,
      "outputs": [
        {
          "output_type": "stream",
          "name": "stdout",
          "text": [
            "(3589, 48, 48, 1)\n",
            "(32298, 48, 48, 1)\n"
          ]
        }
      ]
    },
    {
      "cell_type": "code",
      "source": [
        "\n",
        "BATCH_SIZE=128\n",
        "\n",
        "train_datagen = ImageDataGenerator(\n",
        "  \n",
        "    rotation_range=10,\n",
        "    width_shift_range=0.1,\n",
        "    height_shift_range=0.1,\n",
        "    zoom_range=.1,\n",
        "    horizontal_flip=True,\n",
        ")\n",
        "\n",
        "val_datagen = ImageDataGenerator()\n",
        "\n",
        "train_datagen.fit(X_train)\n",
        "val_datagen.fit(X_train)\n",
        "\n",
        "train_flow = train_datagen.flow(X_train, y_train, batch_size=BATCH_SIZE)\n",
        "val_flow = val_datagen.flow(X_train, y_train, batch_size=BATCH_SIZE, shuffle=False)\n"
      ],
      "metadata": {
        "id": "hCcZ7W4-sqcE"
      },
      "execution_count": null,
      "outputs": []
    },
    {
      "cell_type": "code",
      "source": [
        "\n",
        "\n",
        "model=Sequential()\n",
        "model.add(Conv2D(64, (3, 3), padding='same', kernel_initializer='he_normal', activation=\"relu\", input_shape=(48, 48, 1)))\n",
        "model.add(BatchNormalization())\n",
        "model.add(Conv2D(64, (3, 3), padding='same', kernel_initializer='he_normal', activation=\"relu\"))\n",
        "model.add(BatchNormalization())\n",
        "model.add(MaxPooling2D(pool_size=(2,2)))\n",
        "model.add(Dropout(0.3))\n",
        "\n",
        "\n",
        "model.add(Conv2D(128, (3, 3), padding='same', kernel_initializer='he_normal', activation=\"relu\"))\n",
        "model.add(BatchNormalization())\n",
        "model.add(Conv2D(128, (3, 3), padding='same', kernel_initializer='he_normal', activation=\"relu\"))\n",
        "model.add(BatchNormalization())\n",
        "model.add(Conv2D(128, (3, 3), padding='same', kernel_initializer='he_normal', activation=\"relu\"))\n",
        "model.add(BatchNormalization())\n",
        "\n",
        "model.add(MaxPooling2D(pool_size=(2,2)))\n",
        "model.add(Dropout(0.3))\n",
        "\n",
        "model.add(Conv2D(256, (3, 3), padding='same', kernel_initializer='he_normal', activation=\"relu\"))\n",
        "model.add(BatchNormalization())\n",
        "model.add(Conv2D(256, (3, 3), padding='same', kernel_initializer='he_normal', activation=\"relu\"))\n",
        "model.add(BatchNormalization())\n",
        "model.add(Conv2D(256, (3, 3), padding='same', kernel_initializer='he_normal', activation=\"relu\"))\n",
        "model.add(BatchNormalization())\n",
        "model.add(Conv2D(256, (3, 3), padding='same', kernel_initializer='he_normal', activation=\"relu\"))\n",
        "model.add(BatchNormalization())\n",
        "\n",
        "model.add(MaxPooling2D(pool_size=(2,2)))\n",
        "model.add(Dropout(0.3))\n",
        "\n",
        "model.add(Conv2D(256, (3, 3), padding='same', kernel_initializer='he_normal', activation=\"relu\"))\n",
        "model.add(BatchNormalization())\n",
        "model.add(Conv2D(256, (3, 3), padding='same', kernel_initializer='he_normal', activation=\"relu\"))\n",
        "model.add(BatchNormalization())\n",
        "model.add(Conv2D(256, (3, 3), padding='same', kernel_initializer='he_normal', activation=\"relu\"))\n",
        "model.add(BatchNormalization())\n",
        "model.add(Conv2D(256, (3, 3), padding='same', kernel_initializer='he_normal', activation=\"relu\"))\n",
        "model.add(BatchNormalization())\n",
        "model.add(MaxPooling2D(pool_size=(2,2)))\n",
        "model.add(Dropout(0.3))\n",
        "\n",
        "model.add(Conv2D(512, (3, 3), padding='same', kernel_initializer='he_normal', activation=\"relu\"))\n",
        "model.add(BatchNormalization())\n",
        "model.add(Conv2D(512, (3, 3), padding='same', kernel_initializer='he_normal', activation=\"relu\"))\n",
        "model.add(BatchNormalization())\n",
        "model.add(Conv2D(512, (3, 3), padding='same', kernel_initializer='he_normal', activation=\"relu\"))\n",
        "model.add(BatchNormalization())\n",
        "model.add(Conv2D(512, (3, 3), padding='same', kernel_initializer='he_normal', activation=\"relu\"))\n",
        "model.add(BatchNormalization())\n",
        "model.add(MaxPooling2D(pool_size=(2,2)))\n",
        "model.add(Dropout(0.3))\n",
        "\n",
        "model.add(Flatten())\n",
        "model.add(Dense(2048, activation=\"relu\"))\n",
        "model.add(Dropout(0.3))\n",
        "model.add(Dense(1024, activation=\"relu\"))\n",
        "model.add(Dropout(0.3))\n",
        "model.add(Dense(512, activation=\"relu\"))\n",
        "model.add(Dropout(0.3))\n",
        "\n",
        "model.add(Dense(7, activation='softmax'))\n",
        "\n",
        "model.compile(loss='categorical_crossentropy', optimizer=Adam(0.001), metrics=['categorical_accuracy'])\n"
      ],
      "metadata": {
        "id": "J-u1sydVogF4"
      },
      "execution_count": null,
      "outputs": []
    },
    {
      "cell_type": "code",
      "source": [
        "\n",
        "checkpoint_acc = ModelCheckpoint('cnn_model.h5', verbose=1, monitor='val_categorical_accuracy',save_best_only=True, mode='max')\n",
        "\n",
        "history = model.fit_generator(\n",
        "        train_flow, \n",
        "        epochs=120, \n",
        "        validation_data=val_flow,\n",
        "        verbose =1 ,\n",
        "        callbacks = [checkpoint_acc]\n",
        "    )"
      ],
      "metadata": {
        "colab": {
          "base_uri": "https://localhost:8080/"
        },
        "id": "XaBLZ0hDGPjB",
        "outputId": "8004e02a-c799-4d86-cc88-1dcf02583860"
      },
      "execution_count": null,
      "outputs": [
        {
          "output_type": "stream",
          "name": "stderr",
          "text": [
            "/usr/local/lib/python3.7/dist-packages/ipykernel_launcher.py:9: UserWarning: `Model.fit_generator` is deprecated and will be removed in a future version. Please use `Model.fit`, which supports generators.\n",
            "  if __name__ == '__main__':\n"
          ]
        },
        {
          "output_type": "stream",
          "name": "stdout",
          "text": [
            "Epoch 1/120\n",
            "253/253 [==============================] - ETA: 0s - loss: 1.8358 - categorical_accuracy: 0.2508\n",
            "Epoch 1: val_categorical_accuracy improved from -inf to 0.26639, saving model to cnn_model.h5\n",
            "253/253 [==============================] - 118s 376ms/step - loss: 1.8358 - categorical_accuracy: 0.2508 - val_loss: 1.7847 - val_categorical_accuracy: 0.2664\n",
            "Epoch 2/120\n",
            "253/253 [==============================] - ETA: 0s - loss: 1.6156 - categorical_accuracy: 0.3680\n",
            "Epoch 2: val_categorical_accuracy improved from 0.26639 to 0.41043, saving model to cnn_model.h5\n",
            "253/253 [==============================] - 91s 360ms/step - loss: 1.6156 - categorical_accuracy: 0.3680 - val_loss: 1.6844 - val_categorical_accuracy: 0.4104\n",
            "Epoch 3/120\n",
            "253/253 [==============================] - ETA: 0s - loss: 1.4654 - categorical_accuracy: 0.4382\n",
            "Epoch 3: val_categorical_accuracy improved from 0.41043 to 0.46675, saving model to cnn_model.h5\n",
            "253/253 [==============================] - 90s 356ms/step - loss: 1.4654 - categorical_accuracy: 0.4382 - val_loss: 1.4887 - val_categorical_accuracy: 0.4667\n",
            "Epoch 4/120\n",
            "253/253 [==============================] - ETA: 0s - loss: 1.3707 - categorical_accuracy: 0.4748\n",
            "Epoch 4: val_categorical_accuracy improved from 0.46675 to 0.49938, saving model to cnn_model.h5\n",
            "253/253 [==============================] - 91s 359ms/step - loss: 1.3707 - categorical_accuracy: 0.4748 - val_loss: 1.3973 - val_categorical_accuracy: 0.4994\n",
            "Epoch 5/120\n",
            "253/253 [==============================] - ETA: 0s - loss: 1.3023 - categorical_accuracy: 0.5077\n",
            "Epoch 5: val_categorical_accuracy improved from 0.49938 to 0.54681, saving model to cnn_model.h5\n",
            "253/253 [==============================] - 91s 360ms/step - loss: 1.3023 - categorical_accuracy: 0.5077 - val_loss: 1.1907 - val_categorical_accuracy: 0.5468\n",
            "Epoch 6/120\n",
            "253/253 [==============================] - ETA: 0s - loss: 1.2523 - categorical_accuracy: 0.5269\n",
            "Epoch 6: val_categorical_accuracy did not improve from 0.54681\n",
            "253/253 [==============================] - 91s 359ms/step - loss: 1.2523 - categorical_accuracy: 0.5269 - val_loss: 1.2359 - val_categorical_accuracy: 0.5350\n",
            "Epoch 7/120\n",
            "253/253 [==============================] - ETA: 0s - loss: 1.2215 - categorical_accuracy: 0.5449\n",
            "Epoch 7: val_categorical_accuracy did not improve from 0.54681\n",
            "253/253 [==============================] - 88s 350ms/step - loss: 1.2215 - categorical_accuracy: 0.5449 - val_loss: 1.2482 - val_categorical_accuracy: 0.5416\n",
            "Epoch 8/120\n",
            "253/253 [==============================] - ETA: 0s - loss: 1.2086 - categorical_accuracy: 0.5506\n",
            "Epoch 8: val_categorical_accuracy did not improve from 0.54681\n",
            "253/253 [==============================] - 89s 350ms/step - loss: 1.2086 - categorical_accuracy: 0.5506 - val_loss: 1.5190 - val_categorical_accuracy: 0.4459\n",
            "Epoch 9/120\n",
            "253/253 [==============================] - ETA: 0s - loss: 1.1761 - categorical_accuracy: 0.5639\n",
            "Epoch 9: val_categorical_accuracy improved from 0.54681 to 0.57363, saving model to cnn_model.h5\n",
            "253/253 [==============================] - 87s 344ms/step - loss: 1.1761 - categorical_accuracy: 0.5639 - val_loss: 1.1051 - val_categorical_accuracy: 0.5736\n",
            "Epoch 10/120\n",
            "253/253 [==============================] - ETA: 0s - loss: 1.1467 - categorical_accuracy: 0.5756\n",
            "Epoch 10: val_categorical_accuracy improved from 0.57363 to 0.60044, saving model to cnn_model.h5\n",
            "253/253 [==============================] - 87s 344ms/step - loss: 1.1467 - categorical_accuracy: 0.5756 - val_loss: 1.0714 - val_categorical_accuracy: 0.6004\n",
            "Epoch 11/120\n",
            "253/253 [==============================] - ETA: 0s - loss: 1.1191 - categorical_accuracy: 0.5903\n",
            "Epoch 11: val_categorical_accuracy improved from 0.60044 to 0.60707, saving model to cnn_model.h5\n",
            "253/253 [==============================] - 87s 344ms/step - loss: 1.1191 - categorical_accuracy: 0.5903 - val_loss: 1.0602 - val_categorical_accuracy: 0.6071\n",
            "Epoch 12/120\n",
            "253/253 [==============================] - ETA: 0s - loss: 1.1083 - categorical_accuracy: 0.5906\n",
            "Epoch 12: val_categorical_accuracy improved from 0.60707 to 0.63035, saving model to cnn_model.h5\n",
            "253/253 [==============================] - 87s 343ms/step - loss: 1.1083 - categorical_accuracy: 0.5906 - val_loss: 1.0081 - val_categorical_accuracy: 0.6303\n",
            "Epoch 13/120\n",
            "253/253 [==============================] - ETA: 0s - loss: 1.0910 - categorical_accuracy: 0.6032\n",
            "Epoch 13: val_categorical_accuracy did not improve from 0.63035\n",
            "253/253 [==============================] - 86s 341ms/step - loss: 1.0910 - categorical_accuracy: 0.6032 - val_loss: 1.0172 - val_categorical_accuracy: 0.6279\n",
            "Epoch 14/120\n",
            "253/253 [==============================] - ETA: 0s - loss: 1.0664 - categorical_accuracy: 0.6096\n",
            "Epoch 14: val_categorical_accuracy did not improve from 0.63035\n",
            "253/253 [==============================] - 86s 341ms/step - loss: 1.0664 - categorical_accuracy: 0.6096 - val_loss: 1.0106 - val_categorical_accuracy: 0.6204\n",
            "Epoch 15/120\n",
            "253/253 [==============================] - ETA: 0s - loss: 1.0598 - categorical_accuracy: 0.6125\n",
            "Epoch 15: val_categorical_accuracy did not improve from 0.63035\n",
            "253/253 [==============================] - 86s 340ms/step - loss: 1.0598 - categorical_accuracy: 0.6125 - val_loss: 1.0172 - val_categorical_accuracy: 0.6217\n",
            "Epoch 16/120\n",
            "253/253 [==============================] - ETA: 0s - loss: 1.0381 - categorical_accuracy: 0.6205\n",
            "Epoch 16: val_categorical_accuracy improved from 0.63035 to 0.63527, saving model to cnn_model.h5\n",
            "253/253 [==============================] - 87s 344ms/step - loss: 1.0381 - categorical_accuracy: 0.6205 - val_loss: 0.9729 - val_categorical_accuracy: 0.6353\n",
            "Epoch 17/120\n",
            "253/253 [==============================] - ETA: 0s - loss: 1.0279 - categorical_accuracy: 0.6223\n",
            "Epoch 17: val_categorical_accuracy did not improve from 0.63527\n",
            "253/253 [==============================] - 86s 341ms/step - loss: 1.0279 - categorical_accuracy: 0.6223 - val_loss: 0.9698 - val_categorical_accuracy: 0.6338\n",
            "Epoch 18/120\n",
            "253/253 [==============================] - ETA: 0s - loss: 1.0028 - categorical_accuracy: 0.6350\n",
            "Epoch 18: val_categorical_accuracy improved from 0.63527 to 0.64756, saving model to cnn_model.h5\n",
            "253/253 [==============================] - 87s 344ms/step - loss: 1.0028 - categorical_accuracy: 0.6350 - val_loss: 0.9609 - val_categorical_accuracy: 0.6476\n",
            "Epoch 19/120\n",
            "253/253 [==============================] - ETA: 0s - loss: 0.9982 - categorical_accuracy: 0.6343\n",
            "Epoch 19: val_categorical_accuracy improved from 0.64756 to 0.66304, saving model to cnn_model.h5\n",
            "253/253 [==============================] - 89s 351ms/step - loss: 0.9982 - categorical_accuracy: 0.6343 - val_loss: 0.9032 - val_categorical_accuracy: 0.6630\n",
            "Epoch 20/120\n",
            "253/253 [==============================] - ETA: 0s - loss: 0.9838 - categorical_accuracy: 0.6415\n",
            "Epoch 20: val_categorical_accuracy did not improve from 0.66304\n",
            "253/253 [==============================] - 89s 351ms/step - loss: 0.9838 - categorical_accuracy: 0.6415 - val_loss: 0.9375 - val_categorical_accuracy: 0.6441\n",
            "Epoch 21/120\n",
            "253/253 [==============================] - ETA: 0s - loss: 0.9699 - categorical_accuracy: 0.6438\n",
            "Epoch 21: val_categorical_accuracy did not improve from 0.66304\n",
            "253/253 [==============================] - 89s 350ms/step - loss: 0.9699 - categorical_accuracy: 0.6438 - val_loss: 0.9339 - val_categorical_accuracy: 0.6547\n",
            "Epoch 22/120\n",
            "253/253 [==============================] - ETA: 0s - loss: 0.9592 - categorical_accuracy: 0.6497\n",
            "Epoch 22: val_categorical_accuracy improved from 0.66304 to 0.67852, saving model to cnn_model.h5\n",
            "253/253 [==============================] - 89s 350ms/step - loss: 0.9592 - categorical_accuracy: 0.6497 - val_loss: 0.8924 - val_categorical_accuracy: 0.6785\n",
            "Epoch 23/120\n",
            "253/253 [==============================] - ETA: 0s - loss: 0.9577 - categorical_accuracy: 0.6498\n",
            "Epoch 23: val_categorical_accuracy did not improve from 0.67852\n",
            "253/253 [==============================] - 87s 342ms/step - loss: 0.9577 - categorical_accuracy: 0.6498 - val_loss: 0.8860 - val_categorical_accuracy: 0.6744\n",
            "Epoch 24/120\n",
            "253/253 [==============================] - ETA: 0s - loss: 0.9402 - categorical_accuracy: 0.6588\n",
            "Epoch 24: val_categorical_accuracy did not improve from 0.67852\n",
            "253/253 [==============================] - 86s 341ms/step - loss: 0.9402 - categorical_accuracy: 0.6588 - val_loss: 0.9098 - val_categorical_accuracy: 0.6685\n",
            "Epoch 25/120\n",
            "253/253 [==============================] - ETA: 0s - loss: 0.9258 - categorical_accuracy: 0.6633\n",
            "Epoch 25: val_categorical_accuracy improved from 0.67852 to 0.67874, saving model to cnn_model.h5\n",
            "253/253 [==============================] - 87s 344ms/step - loss: 0.9258 - categorical_accuracy: 0.6633 - val_loss: 0.8796 - val_categorical_accuracy: 0.6787\n",
            "Epoch 26/120\n",
            "253/253 [==============================] - ETA: 0s - loss: 0.9137 - categorical_accuracy: 0.6665\n",
            "Epoch 26: val_categorical_accuracy improved from 0.67874 to 0.69178, saving model to cnn_model.h5\n",
            "253/253 [==============================] - 87s 344ms/step - loss: 0.9137 - categorical_accuracy: 0.6665 - val_loss: 0.8351 - val_categorical_accuracy: 0.6918\n",
            "Epoch 27/120\n",
            "253/253 [==============================] - ETA: 0s - loss: 0.8994 - categorical_accuracy: 0.6743\n",
            "Epoch 27: val_categorical_accuracy improved from 0.69178 to 0.70571, saving model to cnn_model.h5\n",
            "253/253 [==============================] - 87s 343ms/step - loss: 0.8994 - categorical_accuracy: 0.6743 - val_loss: 0.8050 - val_categorical_accuracy: 0.7057\n",
            "Epoch 28/120\n",
            "253/253 [==============================] - ETA: 0s - loss: 0.8915 - categorical_accuracy: 0.6780\n",
            "Epoch 28: val_categorical_accuracy did not improve from 0.70571\n",
            "253/253 [==============================] - 86s 340ms/step - loss: 0.8915 - categorical_accuracy: 0.6780 - val_loss: 0.8171 - val_categorical_accuracy: 0.6972\n",
            "Epoch 29/120\n",
            "253/253 [==============================] - ETA: 0s - loss: 0.8844 - categorical_accuracy: 0.6795\n",
            "Epoch 29: val_categorical_accuracy improved from 0.70571 to 0.70908, saving model to cnn_model.h5\n",
            "253/253 [==============================] - 87s 343ms/step - loss: 0.8844 - categorical_accuracy: 0.6795 - val_loss: 0.7815 - val_categorical_accuracy: 0.7091\n",
            "Epoch 30/120\n",
            "253/253 [==============================] - ETA: 0s - loss: 0.8704 - categorical_accuracy: 0.6871\n",
            "Epoch 30: val_categorical_accuracy improved from 0.70908 to 0.72240, saving model to cnn_model.h5\n",
            "253/253 [==============================] - 87s 344ms/step - loss: 0.8704 - categorical_accuracy: 0.6871 - val_loss: 0.7726 - val_categorical_accuracy: 0.7224\n",
            "Epoch 31/120\n",
            "253/253 [==============================] - ETA: 0s - loss: 0.8588 - categorical_accuracy: 0.6930\n",
            "Epoch 31: val_categorical_accuracy did not improve from 0.72240\n",
            "253/253 [==============================] - 86s 342ms/step - loss: 0.8588 - categorical_accuracy: 0.6930 - val_loss: 0.8026 - val_categorical_accuracy: 0.6998\n",
            "Epoch 32/120\n",
            "253/253 [==============================] - ETA: 0s - loss: 0.8555 - categorical_accuracy: 0.6922\n",
            "Epoch 32: val_categorical_accuracy improved from 0.72240 to 0.73571, saving model to cnn_model.h5\n",
            "253/253 [==============================] - 87s 344ms/step - loss: 0.8555 - categorical_accuracy: 0.6922 - val_loss: 0.7219 - val_categorical_accuracy: 0.7357\n",
            "Epoch 33/120\n",
            "253/253 [==============================] - ETA: 0s - loss: 0.8317 - categorical_accuracy: 0.7002\n",
            "Epoch 33: val_categorical_accuracy did not improve from 0.73571\n",
            "253/253 [==============================] - 86s 342ms/step - loss: 0.8317 - categorical_accuracy: 0.7002 - val_loss: 0.7358 - val_categorical_accuracy: 0.7343\n",
            "Epoch 34/120\n",
            "253/253 [==============================] - ETA: 0s - loss: 0.8238 - categorical_accuracy: 0.7012\n",
            "Epoch 34: val_categorical_accuracy did not improve from 0.73571\n",
            "253/253 [==============================] - 86s 342ms/step - loss: 0.8238 - categorical_accuracy: 0.7012 - val_loss: 0.7494 - val_categorical_accuracy: 0.7246\n",
            "Epoch 35/120\n",
            "253/253 [==============================] - ETA: 0s - loss: 0.8204 - categorical_accuracy: 0.7028\n",
            "Epoch 35: val_categorical_accuracy improved from 0.73571 to 0.73745, saving model to cnn_model.h5\n",
            "253/253 [==============================] - 87s 343ms/step - loss: 0.8204 - categorical_accuracy: 0.7028 - val_loss: 0.7257 - val_categorical_accuracy: 0.7374\n",
            "Epoch 36/120\n",
            "253/253 [==============================] - ETA: 0s - loss: 0.8043 - categorical_accuracy: 0.7116\n",
            "Epoch 36: val_categorical_accuracy improved from 0.73745 to 0.75457, saving model to cnn_model.h5\n",
            "253/253 [==============================] - 87s 343ms/step - loss: 0.8043 - categorical_accuracy: 0.7116 - val_loss: 0.6813 - val_categorical_accuracy: 0.7546\n",
            "Epoch 37/120\n",
            "253/253 [==============================] - ETA: 0s - loss: 0.7928 - categorical_accuracy: 0.7154\n",
            "Epoch 37: val_categorical_accuracy did not improve from 0.75457\n",
            "253/253 [==============================] - 86s 339ms/step - loss: 0.7928 - categorical_accuracy: 0.7154 - val_loss: 0.7198 - val_categorical_accuracy: 0.7348\n",
            "Epoch 38/120\n",
            "253/253 [==============================] - ETA: 0s - loss: 0.7924 - categorical_accuracy: 0.7174\n",
            "Epoch 38: val_categorical_accuracy improved from 0.75457 to 0.75494, saving model to cnn_model.h5\n",
            "253/253 [==============================] - 87s 342ms/step - loss: 0.7924 - categorical_accuracy: 0.7174 - val_loss: 0.6786 - val_categorical_accuracy: 0.7549\n",
            "Epoch 39/120\n",
            "253/253 [==============================] - ETA: 0s - loss: 0.7798 - categorical_accuracy: 0.7216\n",
            "Epoch 39: val_categorical_accuracy did not improve from 0.75494\n",
            "253/253 [==============================] - 86s 340ms/step - loss: 0.7798 - categorical_accuracy: 0.7216 - val_loss: 0.6976 - val_categorical_accuracy: 0.7426\n",
            "Epoch 40/120\n",
            "253/253 [==============================] - ETA: 0s - loss: 0.7683 - categorical_accuracy: 0.7264\n",
            "Epoch 40: val_categorical_accuracy improved from 0.75494 to 0.75500, saving model to cnn_model.h5\n",
            "253/253 [==============================] - 87s 342ms/step - loss: 0.7683 - categorical_accuracy: 0.7264 - val_loss: 0.6637 - val_categorical_accuracy: 0.7550\n",
            "Epoch 41/120\n",
            "253/253 [==============================] - ETA: 0s - loss: 0.7616 - categorical_accuracy: 0.7275\n",
            "Epoch 41: val_categorical_accuracy improved from 0.75500 to 0.75624, saving model to cnn_model.h5\n",
            "253/253 [==============================] - 87s 344ms/step - loss: 0.7616 - categorical_accuracy: 0.7275 - val_loss: 0.6756 - val_categorical_accuracy: 0.7562\n",
            "Epoch 42/120\n",
            "253/253 [==============================] - ETA: 0s - loss: 0.7478 - categorical_accuracy: 0.7336\n",
            "Epoch 42: val_categorical_accuracy improved from 0.75624 to 0.76361, saving model to cnn_model.h5\n",
            "253/253 [==============================] - 87s 342ms/step - loss: 0.7478 - categorical_accuracy: 0.7336 - val_loss: 0.6552 - val_categorical_accuracy: 0.7636\n",
            "Epoch 43/120\n",
            "253/253 [==============================] - ETA: 0s - loss: 0.7392 - categorical_accuracy: 0.7366\n",
            "Epoch 43: val_categorical_accuracy improved from 0.76361 to 0.77451, saving model to cnn_model.h5\n",
            "253/253 [==============================] - 87s 342ms/step - loss: 0.7392 - categorical_accuracy: 0.7366 - val_loss: 0.6355 - val_categorical_accuracy: 0.7745\n",
            "Epoch 44/120\n",
            "253/253 [==============================] - ETA: 0s - loss: 0.7350 - categorical_accuracy: 0.7396\n",
            "Epoch 44: val_categorical_accuracy did not improve from 0.77451\n",
            "253/253 [==============================] - 86s 340ms/step - loss: 0.7350 - categorical_accuracy: 0.7396 - val_loss: 0.6728 - val_categorical_accuracy: 0.7544\n",
            "Epoch 45/120\n",
            "253/253 [==============================] - ETA: 0s - loss: 0.7095 - categorical_accuracy: 0.7467\n",
            "Epoch 45: val_categorical_accuracy did not improve from 0.77451\n",
            "253/253 [==============================] - 86s 340ms/step - loss: 0.7095 - categorical_accuracy: 0.7467 - val_loss: 0.6958 - val_categorical_accuracy: 0.7453\n",
            "Epoch 46/120\n",
            "253/253 [==============================] - ETA: 0s - loss: 0.7038 - categorical_accuracy: 0.7490\n",
            "Epoch 46: val_categorical_accuracy improved from 0.77451 to 0.78788, saving model to cnn_model.h5\n",
            "253/253 [==============================] - 87s 342ms/step - loss: 0.7038 - categorical_accuracy: 0.7490 - val_loss: 0.5938 - val_categorical_accuracy: 0.7879\n",
            "Epoch 47/120\n",
            "253/253 [==============================] - ETA: 0s - loss: 0.7084 - categorical_accuracy: 0.7474\n",
            "Epoch 47: val_categorical_accuracy did not improve from 0.78788\n",
            "253/253 [==============================] - 86s 340ms/step - loss: 0.7084 - categorical_accuracy: 0.7474 - val_loss: 0.6074 - val_categorical_accuracy: 0.7874\n",
            "Epoch 48/120\n",
            "253/253 [==============================] - ETA: 0s - loss: 0.6889 - categorical_accuracy: 0.7573\n",
            "Epoch 48: val_categorical_accuracy improved from 0.78788 to 0.79410, saving model to cnn_model.h5\n",
            "253/253 [==============================] - 87s 343ms/step - loss: 0.6889 - categorical_accuracy: 0.7573 - val_loss: 0.5801 - val_categorical_accuracy: 0.7941\n",
            "Epoch 49/120\n",
            "253/253 [==============================] - ETA: 0s - loss: 0.6773 - categorical_accuracy: 0.7600\n",
            "Epoch 49: val_categorical_accuracy did not improve from 0.79410\n",
            "253/253 [==============================] - 86s 340ms/step - loss: 0.6773 - categorical_accuracy: 0.7600 - val_loss: 0.5879 - val_categorical_accuracy: 0.7886\n",
            "Epoch 50/120\n",
            "253/253 [==============================] - ETA: 0s - loss: 0.6826 - categorical_accuracy: 0.7626\n",
            "Epoch 50: val_categorical_accuracy improved from 0.79410 to 0.80370, saving model to cnn_model.h5\n",
            "253/253 [==============================] - 87s 342ms/step - loss: 0.6826 - categorical_accuracy: 0.7626 - val_loss: 0.5476 - val_categorical_accuracy: 0.8037\n",
            "Epoch 51/120\n",
            "253/253 [==============================] - ETA: 0s - loss: 0.6675 - categorical_accuracy: 0.7630\n",
            "Epoch 51: val_categorical_accuracy did not improve from 0.80370\n",
            "253/253 [==============================] - 86s 340ms/step - loss: 0.6675 - categorical_accuracy: 0.7630 - val_loss: 0.6079 - val_categorical_accuracy: 0.7795\n",
            "Epoch 52/120\n",
            "253/253 [==============================] - ETA: 0s - loss: 0.6577 - categorical_accuracy: 0.7686\n",
            "Epoch 52: val_categorical_accuracy did not improve from 0.80370\n",
            "253/253 [==============================] - 86s 340ms/step - loss: 0.6577 - categorical_accuracy: 0.7686 - val_loss: 0.5603 - val_categorical_accuracy: 0.7995\n",
            "Epoch 53/120\n",
            "253/253 [==============================] - ETA: 0s - loss: 0.6568 - categorical_accuracy: 0.7658\n",
            "Epoch 53: val_categorical_accuracy did not improve from 0.80370\n",
            "253/253 [==============================] - 86s 340ms/step - loss: 0.6568 - categorical_accuracy: 0.7658 - val_loss: 0.5428 - val_categorical_accuracy: 0.8031\n",
            "Epoch 54/120\n",
            "253/253 [==============================] - ETA: 0s - loss: 0.6339 - categorical_accuracy: 0.7769\n",
            "Epoch 54: val_categorical_accuracy did not improve from 0.80370\n",
            "253/253 [==============================] - 86s 340ms/step - loss: 0.6339 - categorical_accuracy: 0.7769 - val_loss: 0.5668 - val_categorical_accuracy: 0.7945\n",
            "Epoch 55/120\n",
            "253/253 [==============================] - ETA: 0s - loss: 0.6265 - categorical_accuracy: 0.7780\n",
            "Epoch 55: val_categorical_accuracy improved from 0.80370 to 0.82110, saving model to cnn_model.h5\n",
            "253/253 [==============================] - 86s 341ms/step - loss: 0.6265 - categorical_accuracy: 0.7780 - val_loss: 0.5013 - val_categorical_accuracy: 0.8211\n",
            "Epoch 56/120\n",
            "253/253 [==============================] - ETA: 0s - loss: 0.6241 - categorical_accuracy: 0.7796\n",
            "Epoch 56: val_categorical_accuracy did not improve from 0.82110\n",
            "253/253 [==============================] - 86s 339ms/step - loss: 0.6241 - categorical_accuracy: 0.7796 - val_loss: 0.5509 - val_categorical_accuracy: 0.8037\n",
            "Epoch 57/120\n",
            "253/253 [==============================] - ETA: 0s - loss: 0.6143 - categorical_accuracy: 0.7845\n",
            "Epoch 57: val_categorical_accuracy did not improve from 0.82110\n",
            "253/253 [==============================] - 86s 339ms/step - loss: 0.6143 - categorical_accuracy: 0.7845 - val_loss: 0.5117 - val_categorical_accuracy: 0.8158\n",
            "Epoch 58/120\n",
            "253/253 [==============================] - ETA: 0s - loss: 0.6073 - categorical_accuracy: 0.7869\n",
            "Epoch 58: val_categorical_accuracy improved from 0.82110 to 0.82389, saving model to cnn_model.h5\n",
            "253/253 [==============================] - 87s 342ms/step - loss: 0.6073 - categorical_accuracy: 0.7869 - val_loss: 0.5073 - val_categorical_accuracy: 0.8239\n",
            "Epoch 59/120\n",
            "253/253 [==============================] - ETA: 0s - loss: 0.6048 - categorical_accuracy: 0.7880\n",
            "Epoch 59: val_categorical_accuracy improved from 0.82389 to 0.82891, saving model to cnn_model.h5\n",
            "253/253 [==============================] - 86s 342ms/step - loss: 0.6048 - categorical_accuracy: 0.7880 - val_loss: 0.4797 - val_categorical_accuracy: 0.8289\n",
            "Epoch 60/120\n",
            "253/253 [==============================] - ETA: 0s - loss: 0.5945 - categorical_accuracy: 0.7909\n",
            "Epoch 60: val_categorical_accuracy did not improve from 0.82891\n",
            "253/253 [==============================] - 86s 341ms/step - loss: 0.5945 - categorical_accuracy: 0.7909 - val_loss: 0.5013 - val_categorical_accuracy: 0.8194\n",
            "Epoch 61/120\n",
            "253/253 [==============================] - ETA: 0s - loss: 0.5887 - categorical_accuracy: 0.7915\n",
            "Epoch 61: val_categorical_accuracy improved from 0.82891 to 0.83209, saving model to cnn_model.h5\n",
            "253/253 [==============================] - 87s 343ms/step - loss: 0.5887 - categorical_accuracy: 0.7915 - val_loss: 0.4772 - val_categorical_accuracy: 0.8321\n",
            "Epoch 62/120\n",
            "253/253 [==============================] - ETA: 0s - loss: 0.5810 - categorical_accuracy: 0.7959\n",
            "Epoch 62: val_categorical_accuracy improved from 0.83209 to 0.83658, saving model to cnn_model.h5\n",
            "253/253 [==============================] - 87s 342ms/step - loss: 0.5810 - categorical_accuracy: 0.7959 - val_loss: 0.4645 - val_categorical_accuracy: 0.8366\n",
            "Epoch 63/120\n",
            "253/253 [==============================] - ETA: 0s - loss: 0.5742 - categorical_accuracy: 0.7986\n",
            "Epoch 63: val_categorical_accuracy did not improve from 0.83658\n",
            "253/253 [==============================] - 86s 341ms/step - loss: 0.5742 - categorical_accuracy: 0.7986 - val_loss: 0.5026 - val_categorical_accuracy: 0.8245\n",
            "Epoch 64/120\n",
            "253/253 [==============================] - ETA: 0s - loss: 0.5640 - categorical_accuracy: 0.8018\n",
            "Epoch 64: val_categorical_accuracy did not improve from 0.83658\n",
            "253/253 [==============================] - 86s 340ms/step - loss: 0.5640 - categorical_accuracy: 0.8018 - val_loss: 0.4898 - val_categorical_accuracy: 0.8289\n",
            "Epoch 65/120\n",
            "253/253 [==============================] - ETA: 0s - loss: 0.5813 - categorical_accuracy: 0.7962\n",
            "Epoch 65: val_categorical_accuracy improved from 0.83658 to 0.83823, saving model to cnn_model.h5\n",
            "253/253 [==============================] - 87s 343ms/step - loss: 0.5813 - categorical_accuracy: 0.7962 - val_loss: 0.4497 - val_categorical_accuracy: 0.8382\n",
            "Epoch 66/120\n",
            "253/253 [==============================] - ETA: 0s - loss: 0.5611 - categorical_accuracy: 0.8030\n",
            "Epoch 66: val_categorical_accuracy improved from 0.83823 to 0.84519, saving model to cnn_model.h5\n",
            "253/253 [==============================] - 87s 343ms/step - loss: 0.5611 - categorical_accuracy: 0.8030 - val_loss: 0.4461 - val_categorical_accuracy: 0.8452\n",
            "Epoch 67/120\n",
            "253/253 [==============================] - ETA: 0s - loss: 0.5493 - categorical_accuracy: 0.8104\n",
            "Epoch 67: val_categorical_accuracy improved from 0.84519 to 0.84810, saving model to cnn_model.h5\n",
            "253/253 [==============================] - 87s 344ms/step - loss: 0.5493 - categorical_accuracy: 0.8104 - val_loss: 0.4312 - val_categorical_accuracy: 0.8481\n",
            "Epoch 68/120\n",
            "253/253 [==============================] - ETA: 0s - loss: 0.5418 - categorical_accuracy: 0.8105\n",
            "Epoch 68: val_categorical_accuracy improved from 0.84810 to 0.85751, saving model to cnn_model.h5\n",
            "253/253 [==============================] - 87s 343ms/step - loss: 0.5418 - categorical_accuracy: 0.8105 - val_loss: 0.4140 - val_categorical_accuracy: 0.8575\n",
            "Epoch 69/120\n",
            "253/253 [==============================] - ETA: 0s - loss: 0.5352 - categorical_accuracy: 0.8149\n",
            "Epoch 69: val_categorical_accuracy did not improve from 0.85751\n",
            "253/253 [==============================] - 86s 341ms/step - loss: 0.5352 - categorical_accuracy: 0.8149 - val_loss: 0.4264 - val_categorical_accuracy: 0.8497\n",
            "Epoch 70/120\n",
            "253/253 [==============================] - ETA: 0s - loss: 0.5251 - categorical_accuracy: 0.8177\n",
            "Epoch 70: val_categorical_accuracy improved from 0.85751 to 0.85826, saving model to cnn_model.h5\n",
            "253/253 [==============================] - 87s 343ms/step - loss: 0.5251 - categorical_accuracy: 0.8177 - val_loss: 0.4076 - val_categorical_accuracy: 0.8583\n",
            "Epoch 71/120\n",
            "253/253 [==============================] - ETA: 0s - loss: 0.5221 - categorical_accuracy: 0.8164\n",
            "Epoch 71: val_categorical_accuracy did not improve from 0.85826\n",
            "253/253 [==============================] - 86s 340ms/step - loss: 0.5221 - categorical_accuracy: 0.8164 - val_loss: 0.4551 - val_categorical_accuracy: 0.8396\n",
            "Epoch 72/120\n",
            "253/253 [==============================] - ETA: 0s - loss: 0.5185 - categorical_accuracy: 0.8211\n",
            "Epoch 72: val_categorical_accuracy did not improve from 0.85826\n",
            "253/253 [==============================] - 86s 340ms/step - loss: 0.5185 - categorical_accuracy: 0.8211 - val_loss: 0.4004 - val_categorical_accuracy: 0.8546\n",
            "Epoch 73/120\n",
            "253/253 [==============================] - ETA: 0s - loss: 0.5204 - categorical_accuracy: 0.8183\n",
            "Epoch 73: val_categorical_accuracy improved from 0.85826 to 0.86284, saving model to cnn_model.h5\n",
            "253/253 [==============================] - 87s 343ms/step - loss: 0.5204 - categorical_accuracy: 0.8183 - val_loss: 0.3858 - val_categorical_accuracy: 0.8628\n",
            "Epoch 74/120\n",
            "253/253 [==============================] - ETA: 0s - loss: 0.5214 - categorical_accuracy: 0.8186\n",
            "Epoch 74: val_categorical_accuracy did not improve from 0.86284\n",
            "253/253 [==============================] - 86s 340ms/step - loss: 0.5214 - categorical_accuracy: 0.8186 - val_loss: 0.4034 - val_categorical_accuracy: 0.8592\n",
            "Epoch 75/120\n",
            "253/253 [==============================] - ETA: 0s - loss: 0.5050 - categorical_accuracy: 0.8246\n",
            "Epoch 75: val_categorical_accuracy did not improve from 0.86284\n",
            "253/253 [==============================] - 86s 340ms/step - loss: 0.5050 - categorical_accuracy: 0.8246 - val_loss: 0.4365 - val_categorical_accuracy: 0.8460\n",
            "Epoch 76/120\n",
            "253/253 [==============================] - ETA: 0s - loss: 0.4904 - categorical_accuracy: 0.8277\n",
            "Epoch 76: val_categorical_accuracy improved from 0.86284 to 0.87253, saving model to cnn_model.h5\n",
            "253/253 [==============================] - 87s 343ms/step - loss: 0.4904 - categorical_accuracy: 0.8277 - val_loss: 0.3692 - val_categorical_accuracy: 0.8725\n",
            "Epoch 77/120\n",
            "253/253 [==============================] - ETA: 0s - loss: 0.4907 - categorical_accuracy: 0.8308\n",
            "Epoch 77: val_categorical_accuracy did not improve from 0.87253\n",
            "253/253 [==============================] - 86s 340ms/step - loss: 0.4907 - categorical_accuracy: 0.8308 - val_loss: 0.3827 - val_categorical_accuracy: 0.8657\n",
            "Epoch 78/120\n",
            "253/253 [==============================] - ETA: 0s - loss: 0.4844 - categorical_accuracy: 0.8304\n",
            "Epoch 78: val_categorical_accuracy did not improve from 0.87253\n",
            "253/253 [==============================] - 86s 340ms/step - loss: 0.4844 - categorical_accuracy: 0.8304 - val_loss: 0.4092 - val_categorical_accuracy: 0.8582\n",
            "Epoch 79/120\n",
            "253/253 [==============================] - ETA: 0s - loss: 0.4881 - categorical_accuracy: 0.8306\n",
            "Epoch 79: val_categorical_accuracy did not improve from 0.87253\n",
            "253/253 [==============================] - 86s 341ms/step - loss: 0.4881 - categorical_accuracy: 0.8306 - val_loss: 0.3891 - val_categorical_accuracy: 0.8644\n",
            "Epoch 80/120\n",
            "253/253 [==============================] - ETA: 0s - loss: 0.4761 - categorical_accuracy: 0.8325\n",
            "Epoch 80: val_categorical_accuracy improved from 0.87253 to 0.88148, saving model to cnn_model.h5\n",
            "253/253 [==============================] - 87s 343ms/step - loss: 0.4761 - categorical_accuracy: 0.8325 - val_loss: 0.3396 - val_categorical_accuracy: 0.8815\n",
            "Epoch 81/120\n",
            "253/253 [==============================] - ETA: 0s - loss: 0.4723 - categorical_accuracy: 0.8331\n",
            "Epoch 81: val_categorical_accuracy did not improve from 0.88148\n",
            "253/253 [==============================] - 86s 340ms/step - loss: 0.4723 - categorical_accuracy: 0.8331 - val_loss: 0.3639 - val_categorical_accuracy: 0.8723\n",
            "Epoch 82/120\n",
            "253/253 [==============================] - ETA: 0s - loss: 0.4676 - categorical_accuracy: 0.8388\n",
            "Epoch 82: val_categorical_accuracy did not improve from 0.88148\n",
            "253/253 [==============================] - 86s 340ms/step - loss: 0.4676 - categorical_accuracy: 0.8388 - val_loss: 0.3735 - val_categorical_accuracy: 0.8706\n",
            "Epoch 83/120\n",
            "253/253 [==============================] - ETA: 0s - loss: 0.4634 - categorical_accuracy: 0.8394\n",
            "Epoch 83: val_categorical_accuracy did not improve from 0.88148\n",
            "253/253 [==============================] - 86s 339ms/step - loss: 0.4634 - categorical_accuracy: 0.8394 - val_loss: 0.3482 - val_categorical_accuracy: 0.8752\n",
            "Epoch 84/120\n",
            "253/253 [==============================] - ETA: 0s - loss: 0.4588 - categorical_accuracy: 0.8390\n",
            "Epoch 84: val_categorical_accuracy did not improve from 0.88148\n",
            "253/253 [==============================] - 86s 339ms/step - loss: 0.4588 - categorical_accuracy: 0.8390 - val_loss: 0.3635 - val_categorical_accuracy: 0.8727\n",
            "Epoch 85/120\n",
            "253/253 [==============================] - ETA: 0s - loss: 0.4486 - categorical_accuracy: 0.8450\n",
            "Epoch 85: val_categorical_accuracy improved from 0.88148 to 0.88457, saving model to cnn_model.h5\n",
            "253/253 [==============================] - 87s 343ms/step - loss: 0.4486 - categorical_accuracy: 0.8450 - val_loss: 0.3246 - val_categorical_accuracy: 0.8846\n",
            "Epoch 86/120\n",
            "253/253 [==============================] - ETA: 0s - loss: 0.4518 - categorical_accuracy: 0.8445\n",
            "Epoch 86: val_categorical_accuracy did not improve from 0.88457\n",
            "253/253 [==============================] - 86s 340ms/step - loss: 0.4518 - categorical_accuracy: 0.8445 - val_loss: 0.3318 - val_categorical_accuracy: 0.8827\n",
            "Epoch 87/120\n",
            "253/253 [==============================] - ETA: 0s - loss: 0.4362 - categorical_accuracy: 0.8483\n",
            "Epoch 87: val_categorical_accuracy improved from 0.88457 to 0.88507, saving model to cnn_model.h5\n",
            "253/253 [==============================] - 87s 342ms/step - loss: 0.4362 - categorical_accuracy: 0.8483 - val_loss: 0.3311 - val_categorical_accuracy: 0.8851\n",
            "Epoch 88/120\n",
            "253/253 [==============================] - ETA: 0s - loss: 0.4392 - categorical_accuracy: 0.8483\n",
            "Epoch 88: val_categorical_accuracy improved from 0.88507 to 0.89182, saving model to cnn_model.h5\n",
            "253/253 [==============================] - 87s 342ms/step - loss: 0.4392 - categorical_accuracy: 0.8483 - val_loss: 0.3114 - val_categorical_accuracy: 0.8918\n",
            "Epoch 89/120\n",
            "253/253 [==============================] - ETA: 0s - loss: 0.4293 - categorical_accuracy: 0.8509\n",
            "Epoch 89: val_categorical_accuracy did not improve from 0.89182\n",
            "253/253 [==============================] - 86s 340ms/step - loss: 0.4293 - categorical_accuracy: 0.8509 - val_loss: 0.3236 - val_categorical_accuracy: 0.8872\n",
            "Epoch 90/120\n",
            "253/253 [==============================] - ETA: 0s - loss: 0.4305 - categorical_accuracy: 0.8501\n",
            "Epoch 90: val_categorical_accuracy did not improve from 0.89182\n",
            "253/253 [==============================] - 86s 340ms/step - loss: 0.4305 - categorical_accuracy: 0.8501 - val_loss: 0.3519 - val_categorical_accuracy: 0.8726\n",
            "Epoch 91/120\n",
            "253/253 [==============================] - ETA: 0s - loss: 0.4346 - categorical_accuracy: 0.8483\n",
            "Epoch 91: val_categorical_accuracy did not improve from 0.89182\n",
            "253/253 [==============================] - 86s 340ms/step - loss: 0.4346 - categorical_accuracy: 0.8483 - val_loss: 0.3173 - val_categorical_accuracy: 0.8917\n",
            "Epoch 92/120\n",
            "253/253 [==============================] - ETA: 0s - loss: 0.4168 - categorical_accuracy: 0.8546\n",
            "Epoch 92: val_categorical_accuracy improved from 0.89182 to 0.90417, saving model to cnn_model.h5\n",
            "253/253 [==============================] - 87s 342ms/step - loss: 0.4168 - categorical_accuracy: 0.8546 - val_loss: 0.2794 - val_categorical_accuracy: 0.9042\n",
            "Epoch 93/120\n",
            "253/253 [==============================] - ETA: 0s - loss: 0.4091 - categorical_accuracy: 0.8565\n",
            "Epoch 93: val_categorical_accuracy did not improve from 0.90417\n",
            "253/253 [==============================] - 86s 340ms/step - loss: 0.4091 - categorical_accuracy: 0.8565 - val_loss: 0.3164 - val_categorical_accuracy: 0.8877\n",
            "Epoch 94/120\n",
            "253/253 [==============================] - ETA: 0s - loss: 0.4166 - categorical_accuracy: 0.8551\n",
            "Epoch 94: val_categorical_accuracy did not improve from 0.90417\n",
            "253/253 [==============================] - 86s 339ms/step - loss: 0.4166 - categorical_accuracy: 0.8551 - val_loss: 0.2946 - val_categorical_accuracy: 0.8981\n",
            "Epoch 95/120\n",
            "253/253 [==============================] - ETA: 0s - loss: 0.4133 - categorical_accuracy: 0.8571\n",
            "Epoch 95: val_categorical_accuracy did not improve from 0.90417\n",
            "253/253 [==============================] - 86s 340ms/step - loss: 0.4133 - categorical_accuracy: 0.8571 - val_loss: 0.3079 - val_categorical_accuracy: 0.8928\n",
            "Epoch 96/120\n",
            "253/253 [==============================] - ETA: 0s - loss: 0.4182 - categorical_accuracy: 0.8555\n",
            "Epoch 96: val_categorical_accuracy did not improve from 0.90417\n",
            "253/253 [==============================] - 86s 340ms/step - loss: 0.4182 - categorical_accuracy: 0.8555 - val_loss: 0.3704 - val_categorical_accuracy: 0.8667\n",
            "Epoch 97/120\n",
            "253/253 [==============================] - ETA: 0s - loss: 0.3971 - categorical_accuracy: 0.8628\n",
            "Epoch 97: val_categorical_accuracy did not improve from 0.90417\n",
            "253/253 [==============================] - 86s 340ms/step - loss: 0.3971 - categorical_accuracy: 0.8628 - val_loss: 0.3130 - val_categorical_accuracy: 0.8902\n",
            "Epoch 98/120\n",
            "253/253 [==============================] - ETA: 0s - loss: 0.3945 - categorical_accuracy: 0.8629\n",
            "Epoch 98: val_categorical_accuracy did not improve from 0.90417\n",
            "253/253 [==============================] - 86s 340ms/step - loss: 0.3945 - categorical_accuracy: 0.8629 - val_loss: 0.2833 - val_categorical_accuracy: 0.9004\n",
            "Epoch 99/120\n",
            "253/253 [==============================] - ETA: 0s - loss: 0.3973 - categorical_accuracy: 0.8616\n",
            "Epoch 99: val_categorical_accuracy improved from 0.90417 to 0.90965, saving model to cnn_model.h5\n",
            "253/253 [==============================] - 87s 342ms/step - loss: 0.3973 - categorical_accuracy: 0.8616 - val_loss: 0.2649 - val_categorical_accuracy: 0.9097\n",
            "Epoch 100/120\n",
            "253/253 [==============================] - ETA: 0s - loss: 0.5050 - categorical_accuracy: 0.8271\n",
            "Epoch 100: val_categorical_accuracy did not improve from 0.90965\n",
            "253/253 [==============================] - 86s 340ms/step - loss: 0.5050 - categorical_accuracy: 0.8271 - val_loss: 0.3770 - val_categorical_accuracy: 0.8673\n",
            "Epoch 101/120\n",
            "253/253 [==============================] - ETA: 0s - loss: 0.4311 - categorical_accuracy: 0.8497\n",
            "Epoch 101: val_categorical_accuracy did not improve from 0.90965\n",
            "253/253 [==============================] - 86s 340ms/step - loss: 0.4311 - categorical_accuracy: 0.8497 - val_loss: 0.2995 - val_categorical_accuracy: 0.8953\n",
            "Epoch 102/120\n",
            "253/253 [==============================] - ETA: 0s - loss: 0.3911 - categorical_accuracy: 0.8616\n",
            "Epoch 102: val_categorical_accuracy did not improve from 0.90965\n",
            "253/253 [==============================] - 86s 340ms/step - loss: 0.3911 - categorical_accuracy: 0.8616 - val_loss: 0.2835 - val_categorical_accuracy: 0.9021\n",
            "Epoch 103/120\n",
            "253/253 [==============================] - ETA: 0s - loss: 0.3776 - categorical_accuracy: 0.8713\n",
            "Epoch 103: val_categorical_accuracy did not improve from 0.90965\n",
            "253/253 [==============================] - 86s 340ms/step - loss: 0.3776 - categorical_accuracy: 0.8713 - val_loss: 0.2791 - val_categorical_accuracy: 0.9060\n",
            "Epoch 104/120\n",
            "253/253 [==============================] - ETA: 0s - loss: 0.3815 - categorical_accuracy: 0.8684\n",
            "Epoch 104: val_categorical_accuracy did not improve from 0.90965\n",
            "253/253 [==============================] - 86s 339ms/step - loss: 0.3815 - categorical_accuracy: 0.8684 - val_loss: 0.2660 - val_categorical_accuracy: 0.9054\n",
            "Epoch 105/120\n",
            "253/253 [==============================] - ETA: 0s - loss: 0.3740 - categorical_accuracy: 0.8708\n",
            "Epoch 105: val_categorical_accuracy did not improve from 0.90965\n",
            "253/253 [==============================] - 86s 339ms/step - loss: 0.3740 - categorical_accuracy: 0.8708 - val_loss: 0.2693 - val_categorical_accuracy: 0.9086\n",
            "Epoch 106/120\n",
            "253/253 [==============================] - ETA: 0s - loss: 0.3575 - categorical_accuracy: 0.8762\n",
            "Epoch 106: val_categorical_accuracy did not improve from 0.90965\n",
            "253/253 [==============================] - 86s 340ms/step - loss: 0.3575 - categorical_accuracy: 0.8762 - val_loss: 0.2900 - val_categorical_accuracy: 0.8988\n",
            "Epoch 107/120\n",
            "253/253 [==============================] - ETA: 0s - loss: 0.3613 - categorical_accuracy: 0.8763\n",
            "Epoch 107: val_categorical_accuracy improved from 0.90965 to 0.91263, saving model to cnn_model.h5\n",
            "253/253 [==============================] - 87s 343ms/step - loss: 0.3613 - categorical_accuracy: 0.8763 - val_loss: 0.2553 - val_categorical_accuracy: 0.9126\n",
            "Epoch 108/120\n",
            "253/253 [==============================] - ETA: 0s - loss: 0.3569 - categorical_accuracy: 0.8754\n",
            "Epoch 108: val_categorical_accuracy improved from 0.91263 to 0.92003, saving model to cnn_model.h5\n",
            "253/253 [==============================] - 87s 342ms/step - loss: 0.3569 - categorical_accuracy: 0.8754 - val_loss: 0.2376 - val_categorical_accuracy: 0.9200\n",
            "Epoch 109/120\n",
            "253/253 [==============================] - ETA: 0s - loss: 0.3507 - categorical_accuracy: 0.8777\n",
            "Epoch 109: val_categorical_accuracy did not improve from 0.92003\n",
            "253/253 [==============================] - 86s 340ms/step - loss: 0.3507 - categorical_accuracy: 0.8777 - val_loss: 0.2802 - val_categorical_accuracy: 0.9041\n",
            "Epoch 110/120\n",
            "253/253 [==============================] - ETA: 0s - loss: 0.3556 - categorical_accuracy: 0.8772\n",
            "Epoch 110: val_categorical_accuracy did not improve from 0.92003\n",
            "253/253 [==============================] - 86s 340ms/step - loss: 0.3556 - categorical_accuracy: 0.8772 - val_loss: 0.2512 - val_categorical_accuracy: 0.9135\n",
            "Epoch 111/120\n",
            "253/253 [==============================] - ETA: 0s - loss: 0.3541 - categorical_accuracy: 0.8766\n",
            "Epoch 111: val_categorical_accuracy did not improve from 0.92003\n",
            "253/253 [==============================] - 86s 340ms/step - loss: 0.3541 - categorical_accuracy: 0.8766 - val_loss: 0.2605 - val_categorical_accuracy: 0.9082\n",
            "Epoch 112/120\n",
            "253/253 [==============================] - ETA: 0s - loss: 0.3563 - categorical_accuracy: 0.8789\n",
            "Epoch 112: val_categorical_accuracy did not improve from 0.92003\n",
            "253/253 [==============================] - 86s 340ms/step - loss: 0.3563 - categorical_accuracy: 0.8789 - val_loss: 0.2458 - val_categorical_accuracy: 0.9181\n",
            "Epoch 113/120\n",
            "253/253 [==============================] - ETA: 0s - loss: 0.3423 - categorical_accuracy: 0.8807\n",
            "Epoch 113: val_categorical_accuracy did not improve from 0.92003\n",
            "253/253 [==============================] - 86s 340ms/step - loss: 0.3423 - categorical_accuracy: 0.8807 - val_loss: 0.2463 - val_categorical_accuracy: 0.9172\n",
            "Epoch 114/120\n",
            "253/253 [==============================] - ETA: 0s - loss: 0.3513 - categorical_accuracy: 0.8777\n",
            "Epoch 114: val_categorical_accuracy did not improve from 0.92003\n",
            "253/253 [==============================] - 86s 340ms/step - loss: 0.3513 - categorical_accuracy: 0.8777 - val_loss: 0.2443 - val_categorical_accuracy: 0.9125\n",
            "Epoch 115/120\n",
            "253/253 [==============================] - ETA: 0s - loss: 0.3450 - categorical_accuracy: 0.8812\n",
            "Epoch 115: val_categorical_accuracy improved from 0.92003 to 0.92080, saving model to cnn_model.h5\n",
            "253/253 [==============================] - 87s 343ms/step - loss: 0.3450 - categorical_accuracy: 0.8812 - val_loss: 0.2353 - val_categorical_accuracy: 0.9208\n",
            "Epoch 116/120\n",
            "253/253 [==============================] - ETA: 0s - loss: 0.3374 - categorical_accuracy: 0.8835\n",
            "Epoch 116: val_categorical_accuracy did not improve from 0.92080\n",
            "253/253 [==============================] - 86s 340ms/step - loss: 0.3374 - categorical_accuracy: 0.8835 - val_loss: 0.2810 - val_categorical_accuracy: 0.9003\n",
            "Epoch 117/120\n",
            "253/253 [==============================] - ETA: 0s - loss: 0.3367 - categorical_accuracy: 0.8838\n",
            "Epoch 117: val_categorical_accuracy improved from 0.92080 to 0.92266, saving model to cnn_model.h5\n",
            "253/253 [==============================] - 87s 343ms/step - loss: 0.3367 - categorical_accuracy: 0.8838 - val_loss: 0.2209 - val_categorical_accuracy: 0.9227\n",
            "Epoch 118/120\n",
            "253/253 [==============================] - ETA: 0s - loss: 0.5529 - categorical_accuracy: 0.8125\n",
            "Epoch 118: val_categorical_accuracy did not improve from 0.92266\n",
            "253/253 [==============================] - 86s 340ms/step - loss: 0.5529 - categorical_accuracy: 0.8125 - val_loss: 0.3135 - val_categorical_accuracy: 0.8946\n",
            "Epoch 119/120\n",
            "253/253 [==============================] - ETA: 0s - loss: 0.4188 - categorical_accuracy: 0.8570\n",
            "Epoch 119: val_categorical_accuracy did not improve from 0.92266\n",
            "253/253 [==============================] - 86s 340ms/step - loss: 0.4188 - categorical_accuracy: 0.8570 - val_loss: 0.2762 - val_categorical_accuracy: 0.9062\n",
            "Epoch 120/120\n",
            "253/253 [==============================] - ETA: 0s - loss: 0.3651 - categorical_accuracy: 0.8762\n",
            "Epoch 120: val_categorical_accuracy improved from 0.92266 to 0.92318, saving model to cnn_model.h5\n",
            "253/253 [==============================] - 87s 343ms/step - loss: 0.3651 - categorical_accuracy: 0.8762 - val_loss: 0.2240 - val_categorical_accuracy: 0.9232\n"
          ]
        }
      ]
    },
    {
      "cell_type": "code",
      "source": [
        "import matplotlib.pyplot as plt\n",
        "\n",
        "print(history.history.keys())\n",
        "# summarize history for accuracy\n",
        "plt.plot(history.history['categorical_accuracy'])\n",
        "plt.plot(history.history['val_categorical_accuracy'])\n",
        "plt.title('model accuracy')\n",
        "plt.ylabel('accuracy')\n",
        "plt.xlabel('epoch')\n",
        "plt.legend(['train', 'valid'], loc='upper left')\n",
        "plt.show()\n",
        "# summarize history for loss\n",
        "plt.plot(history.history['loss'])\n",
        "plt.plot(history.history['val_loss'])\n",
        "plt.title('model loss')\n",
        "plt.ylabel('loss')\n",
        "plt.xlabel('epoch')\n",
        "plt.legend(['train', 'valid'], loc='upper left')\n",
        "plt.show()\n",
        "X_train.shape"
      ],
      "metadata": {
        "colab": {
          "base_uri": "https://localhost:8080/",
          "height": 609
        },
        "id": "7hGUhnPoGl2k",
        "outputId": "b028fa7d-ba75-4d2d-e8ca-09abe404e2b1"
      },
      "execution_count": null,
      "outputs": [
        {
          "output_type": "stream",
          "name": "stdout",
          "text": [
            "dict_keys(['loss', 'categorical_accuracy', 'val_loss', 'val_categorical_accuracy'])\n"
          ]
        },
        {
          "output_type": "display_data",
          "data": {
            "text/plain": [
              "<Figure size 432x288 with 1 Axes>"
            ],
            "image/png": "[encoded data removed]"
          },
          "metadata": {
            "needs_background": "light"
          }
        },
        {
          "output_type": "display_data",
          "data": {
            "text/plain": [
              "<Figure size 432x288 with 1 Axes>"
            ],
            "image/png": "[encoded data removed]"
          },
          "metadata": {
            "needs_background": "light"
          }
        },
        {
          "output_type": "execute_result",
          "data": {
            "text/plain": [
              "(32298, 48, 48, 1)"
            ]
          },
          "metadata": {},
          "execution_count": 21
        }
      ]
    },
    {
      "cell_type": "code",
      "source": [
        "\n",
        "scores = model.evaluate(X_test,y_test)\n",
        "print(\"Testing Accuracy: %.2f%%\\n\" % (scores[1]*100))"
      ],
      "metadata": {
        "colab": {
          "base_uri": "https://localhost:8080/"
        },
        "id": "HL9lfi4bGoKc",
        "outputId": "41684d2c-bf26-443d-ce1e-d3c2d0dd1438"
      },
      "execution_count": null,
      "outputs": [
        {
          "output_type": "stream",
          "name": "stdout",
          "text": [
            "113/113 [==============================] - 4s 32ms/step - loss: 1.1256 - categorical_accuracy: 0.6994\n",
            "Testing Accuracy: 69.94%\n",
            "\n"
          ]
        }
      ]
    },
    {
      "cell_type": "code",
      "source": [
        "#modelden tahminini alıyoruz\n",
        "y_pred=model.predict(X_test,verbose=1)"
      ],
      "metadata": {
        "colab": {
          "base_uri": "https://localhost:8080/"
        },
        "id": "gY6VoC1NHm_W",
        "outputId": "98b102d7-4177-413f-a55e-52baa3d13d64"
      },
      "execution_count": null,
      "outputs": [
        {
          "output_type": "stream",
          "name": "stdout",
          "text": [
            "113/113 [==============================] - 4s 28ms/step\n"
          ]
        },
        {
          "output_type": "execute_result",
          "data": {
            "text/plain": [
              "array([[4.2312723e-02, 4.6290155e-04, 4.3537904e-02, ..., 7.1247299e-03,\n",
              "        2.2195334e-02, 3.1365443e-03],\n",
              "       [1.4058856e-05, 2.1767742e-07, 1.3080692e-04, ..., 1.9264959e-04,\n",
              "        4.4353065e-04, 9.5972745e-03],\n",
              "       [3.8121133e-03, 2.0128236e-05, 8.4507871e-01, ..., 1.7150044e-03,\n",
              "        1.4837657e-01, 2.7414985e-04],\n",
              "       ...,\n",
              "       [7.4326522e-03, 5.5490847e-05, 6.0511231e-01, ..., 2.7132328e-03,\n",
              "        3.7872794e-01, 6.3924940e-04],\n",
              "       [1.1654756e-03, 1.4464931e-07, 2.5368873e-03, ..., 5.8293339e-02,\n",
              "        8.2843246e-05, 8.9414889e-01],\n",
              "       [4.4075758e-08, 9.9793502e-13, 2.3475447e-07, ..., 6.1835766e-07,\n",
              "        2.5574383e-07, 3.0357071e-05]], dtype=float32)"
            ]
          },
          "metadata": {},
          "execution_count": 12
        }
      ]
    },
    {
      "cell_type": "code",
      "source": [
        "from sklearn.metrics import confusion_matrix,precision_score, recall_score, f1_score, accuracy_score\n",
        "from imblearn.metrics import specificity_score\n",
        "\n",
        "y_all_predict = [np.argmax(i) for i in y_pred]\n",
        "print(y_all_predict[17])\n",
        "\n",
        "\n",
        "y_all_predict=tf.keras.utils.to_categorical(y_all_predict)\n",
        "print(y_all_predict[17])\n",
        "print(y_test[17])"
      ],
      "metadata": {
        "colab": {
          "base_uri": "https://localhost:8080/"
        },
        "id": "_30TWTizH7lU",
        "outputId": "114b379c-8638-438c-b244-819cb91d0f61"
      },
      "execution_count": null,
      "outputs": [
        {
          "output_type": "stream",
          "name": "stdout",
          "text": [
            "4\n",
            "[0. 0. 0. 0. 1. 0. 0.]\n",
            "[0. 0. 1. 0. 0. 0. 0.]\n"
          ]
        }
      ]
    },
    {
      "cell_type": "code",
      "source": [
        "\n",
        "fig = plt.figure(dpi=120)\n",
        "ax = fig.add_subplot(1,1,1)\n",
        "table=[\n",
        "    [\"Recall: \", recall_score(y_test, y_all_predict ,average='weighted')],\n",
        "    [\"Precision: \", precision_score(y_test, y_all_predict,average='weighted')],\n",
        "    [\"Accuracy: \", accuracy_score(y_test, y_all_predict)],\n",
        "    #[\"Specificity: \", specificity_score(y_test, y_all_predict)],\n",
        "    [\"F1 Score: \", f1_score(y_test, y_all_predict,average='weighted')],\n",
        "]\n",
        "table = ax.table(cellText=table, loc='center')\n",
        "table.set_fontsize(16)\n",
        "table.scale(1,4)\n",
        "ax.axis('off')\n",
        "plt.show()"
      ],
      "metadata": {
        "colab": {
          "base_uri": "https://localhost:8080/",
          "height": 403
        },
        "id": "kRNXdm_fpjSH",
        "outputId": "44bc0bfb-f0c2-41e2-b197-a5dbbbd91cf0"
      },
      "execution_count": null,
      "outputs": [
        {
          "output_type": "display_data",
          "data": {
            "text/plain": [
              "<Figure size 720x480 with 1 Axes>"
            ],
            "image/png": "[encoded data removed]"
          },
          "metadata": {
            "needs_background": "light"
          }
        }
      ]
    },
    {
      "cell_type": "code",
      "source": [
        "import seaborn as sns\n",
        "from sklearn.metrics import confusion_matrix,precision_score, recall_score, f1_score, accuracy_score\n",
        "from imblearn.metrics import specificity_score\n",
        "\n",
        "T5_lables = ['Angry','Disgust','Fear','Happy','Sad', 'Surprise', 'Neutral']\n",
        "plt.figure(figsize=(10,10))\n",
        "ax= plt.subplot()\n",
        "\n",
        "cm = confusion_matrix(np.asarray(y_test).argmax(axis=1), np.asarray(y_all_predict).argmax(axis=1))\n",
        "sns.heatmap(cm, annot=True, fmt='g', ax=ax,cmap=\"PuBu\",linewidths=1); \n",
        "\n",
        "\n",
        "ax.set_xlabel('Predicted labels');ax.set_ylabel('True labels'); \n",
        "ax.set_title('Confusion Matrix'); \n",
        "ax.xaxis.set_ticklabels(T5_lables); ax.yaxis.set_ticklabels(T5_lables);"
      ],
      "metadata": {
        "colab": {
          "base_uri": "https://localhost:8080/",
          "height": 621
        },
        "id": "0hnag2m4OB9M",
        "outputId": "3a216cc5-da2c-4d39-b975-22a37d4503b8"
      },
      "execution_count": null,
      "outputs": [
        {
          "output_type": "display_data",
          "data": {
            "text/plain": [
              "<Figure size 720x720 with 2 Axes>"
            ],
            "image/png": "[encoded data removed]"
          },
          "metadata": {
            "needs_background": "light"
          }
        }
      ]
    }
  ]
}